{
 "cells": [
  {
   "cell_type": "markdown",
   "id": "54ab7636-c3e6-433a-8b27-6668f43288ee",
   "metadata": {},
   "source": [
    "# Скрипты для загрузки данных в БД PostgreeSQL\n",
    "\n",
    "Скрипты для переноса датасетов в базу данных PostgreeSQL, развернутую в Yandex Cloud"
   ]
  },
  {
   "cell_type": "markdown",
   "id": "54d8697b-f56d-4636-895d-5778ea09937f",
   "metadata": {},
   "source": [
    "## 1. Загрузка необходимых библиотек"
   ]
  },
  {
   "cell_type": "code",
   "execution_count": 1,
   "id": "87a51de1-af3f-4f16-a102-f6cacd6612a9",
   "metadata": {},
   "outputs": [],
   "source": [
    "import psycopg2\n",
    "import pandas as pd"
   ]
  },
  {
   "cell_type": "markdown",
   "id": "c34e8d61-78e4-4310-a0c7-bef247a4eedc",
   "metadata": {},
   "source": [
    "## 2. Настройка параметров подключения к БД"
   ]
  },
  {
   "cell_type": "markdown",
   "id": "f8e0cea2-c647-49fe-9592-821068f52473",
   "metadata": {},
   "source": [
    "Секреты:"
   ]
  },
  {
   "cell_type": "code",
   "execution_count": 2,
   "id": "effae096-76d1-482a-8206-9f0823bb7c72",
   "metadata": {},
   "outputs": [],
   "source": [
    "host = ''\n",
    "dbname = ''\n",
    "user = ''\n",
    "password = ''"
   ]
  },
  {
   "cell_type": "markdown",
   "id": "217ba14b-8c84-426e-9d61-f446e8578aca",
   "metadata": {},
   "source": [
    "Параметры подключения:"
   ]
  },
  {
   "cell_type": "code",
   "execution_count": 3,
   "id": "478776a6-4310-47e7-927f-1deb84df9276",
   "metadata": {},
   "outputs": [],
   "source": [
    "conn_params = f\"\"\"\n",
    "        host={host}\n",
    "        port=6432\n",
    "        sslmode=verify-full\n",
    "        dbname={dbname}\n",
    "        user={user}\n",
    "        password={password}\n",
    "        sslmode=require\n",
    "        target_session_attrs=read-write\n",
    "    \"\"\""
   ]
  },
  {
   "cell_type": "markdown",
   "id": "f46f70f7-a614-47eb-a4a2-795989929d04",
   "metadata": {},
   "source": [
    "## 3. Скрипты для взаимодействия с базой данных"
   ]
  },
  {
   "cell_type": "markdown",
   "id": "790cb19b-8560-40fc-8d7a-30b00d941034",
   "metadata": {},
   "source": [
    "### 3.1. Загрузка датасета с основной информацией о ДТП в БД"
   ]
  },
  {
   "cell_type": "markdown",
   "id": "0714475c-db9f-4e2c-a8a0-78e40f4410c1",
   "metadata": {},
   "source": [
    "Создание таблицы (если не существует):"
   ]
  },
  {
   "cell_type": "code",
   "execution_count": 42,
   "id": "283ff620-4098-4dcb-974c-f1741b6192ee",
   "metadata": {},
   "outputs": [],
   "source": [
    "create_table_dtp_general_dataset_query = '''\n",
    "CREATE TABLE IF NOT EXISTS dtp_general_dataset (\n",
    "    id INTEGER,\n",
    "    light VARCHAR(500),\n",
    "    nearby VARCHAR(500),\n",
    "    region VARCHAR(100),\n",
    "    scheme VARCHAR(10),\n",
    "    weather VARCHAR(100),\n",
    "    category VARCHAR(500),\n",
    "    datetime TIMESTAMP,\n",
    "    severity VARCHAR(100),\n",
    "    dead_count INTEGER,\n",
    "    injured_count INTEGER,\n",
    "    parent_region VARCHAR(100),\n",
    "    road_conditions VARCHAR(500),\n",
    "    participants_count INTEGER,\n",
    "    participant_categories VARCHAR(500),\n",
    "    lat FLOAT,\n",
    "    long FLOAT,\n",
    "    year INTEGER,\n",
    "    month INTEGER,\n",
    "    day INTEGER,\n",
    "    hour INTEGER,\n",
    "    light_day INTEGER,\n",
    "    dark_light_on INTEGER,\n",
    "    dark_no_light INTEGER,\n",
    "    crossroads INTEGER,\n",
    "    pedestrian_crossing INTEGER,\n",
    "    regulated INTEGER,\n",
    "    is_clear INTEGER,\n",
    "    is_cloudy INTEGER,\n",
    "    is_snowfall INTEGER,\n",
    "    is_rain INTEGER,\n",
    "    is_collision_with_human INTEGER,\n",
    "    is_collision_with_cyclist INTEGER,\n",
    "    ice_troubles INTEGER,\n",
    "    participant_biker INTEGER,\n",
    "    participant_pedestrian INTEGER,\n",
    "    participant_cyclist INTEGER\n",
    ");\n",
    "'''\n",
    "\n",
    "conn = psycopg2.connect(conn_params)\n",
    "cur = conn.cursor()\n",
    "cur.execute(create_table_dtp_general_dataset_query)\n",
    "conn.commit()"
   ]
  },
  {
   "cell_type": "markdown",
   "id": "01654293-ac04-43fd-8989-286ca1398692",
   "metadata": {},
   "source": [
    "Загрузим данные в БД из подготовленного датасета:"
   ]
  },
  {
   "cell_type": "code",
   "execution_count": 14,
   "id": "e1c9ce8f-40cb-4240-a89a-26c3c51ec780",
   "metadata": {},
   "outputs": [
    {
     "name": "stdout",
     "output_type": "stream",
     "text": [
      "Данные успешно загружены в базу данных.\n"
     ]
    }
   ],
   "source": [
    "conn = psycopg2.connect(conn_params)\n",
    "cur = conn.cursor()\n",
    "\n",
    "try:\n",
    "    with open('dtp_general_dataset.csv', 'r') as f:\n",
    "            cur.copy_expert(\"COPY dtp_general_dataset FROM STDIN WITH CSV HEADER\", f)\n",
    "    \n",
    "    conn.commit()\n",
    "    print(\"Данные успешно загружены в базу данных.\")\n",
    "\n",
    "except Exception as e:\n",
    "    print(f\"Произошла ошибка: {e}\")\n",
    "\n",
    "finally:\n",
    "    if cur:\n",
    "        cur.close()\n",
    "    if conn:\n",
    "        conn.close()"
   ]
  },
  {
   "cell_type": "code",
   "execution_count": 12,
   "id": "2f443b82-9f61-4373-95fe-f0266fd25806",
   "metadata": {},
   "outputs": [],
   "source": [
    "df = pd.read_csv('dtp_general_dataset.csv')"
   ]
  },
  {
   "cell_type": "code",
   "execution_count": 13,
   "id": "1391df37-fd7d-4296-806d-6d7c2fd59bb8",
   "metadata": {},
   "outputs": [
    {
     "data": {
      "text/plain": [
       "(1430278, 37)"
      ]
     },
     "execution_count": 13,
     "metadata": {},
     "output_type": "execute_result"
    }
   ],
   "source": [
    "df.shape"
   ]
  },
  {
   "cell_type": "markdown",
   "id": "34348dce-802f-45ba-bda8-cc315de5c5aa",
   "metadata": {},
   "source": [
    "### 3.2. Загрузка датасета с информацией о транспортных средствах - участниках ДТП"
   ]
  },
  {
   "cell_type": "markdown",
   "id": "1110ddb3-d6da-415b-b4c1-aeba74f77005",
   "metadata": {},
   "source": [
    "Создание таблицы (если не существует):"
   ]
  },
  {
   "cell_type": "code",
   "execution_count": 21,
   "id": "e2ea99c0-2c55-4482-beb5-ee2e685a0c24",
   "metadata": {},
   "outputs": [],
   "source": [
    "create_table_vehicles_data_query = '''\n",
    "CREATE TABLE IF NOT EXISTS vehicles_data (\n",
    "    id INTEGER,\n",
    "    year INTEGER,\n",
    "    brand VARCHAR(100),\n",
    "    color VARCHAR(100),\n",
    "    model VARCHAR(100),\n",
    "    category VARCHAR(200),\n",
    "    region VARCHAR(100),\n",
    "    parent_region VARCHAR(100),\n",
    "    datetime TIMESTAMP,\n",
    "    age INTEGER\n",
    ");\n",
    "'''\n",
    "\n",
    "conn = psycopg2.connect(conn_params)\n",
    "cur = conn.cursor()\n",
    "cur.execute(create_table_vehicles_data_query)\n",
    "conn.commit()"
   ]
  },
  {
   "cell_type": "markdown",
   "id": "7caa6c9a-86d0-440f-8ba0-669c1c799c5f",
   "metadata": {},
   "source": [
    "Загрузим данные в БД из подготовленного датасета:"
   ]
  },
  {
   "cell_type": "code",
   "execution_count": 22,
   "id": "34434097-c90b-41a0-bcc9-bf805b8bd892",
   "metadata": {},
   "outputs": [
    {
     "name": "stdout",
     "output_type": "stream",
     "text": [
      "Данные успешно загружены в базу данных.\n"
     ]
    }
   ],
   "source": [
    "conn = psycopg2.connect(conn_params)\n",
    "cur = conn.cursor()\n",
    "\n",
    "try:\n",
    "    with open('vehicles_data.csv', 'r') as f:\n",
    "            cur.copy_expert(\"COPY vehicles_data FROM STDIN WITH CSV HEADER\", f)\n",
    "    \n",
    "    conn.commit()\n",
    "    print(\"Данные успешно загружены в базу данных.\")\n",
    "\n",
    "except Exception as e:\n",
    "    print(f\"Произошла ошибка: {e}\")\n",
    "\n",
    "finally:\n",
    "    if cur:\n",
    "        cur.close()\n",
    "    if conn:\n",
    "        conn.close()"
   ]
  },
  {
   "cell_type": "markdown",
   "id": "b638d9c5-3d22-49f1-bcfb-c71521fdb4fe",
   "metadata": {},
   "source": [
    "### 3.3. Загрузка датасета с информацией об участниках ДТП"
   ]
  },
  {
   "cell_type": "markdown",
   "id": "18264d24-6e9d-4401-b3d6-a240c840505e",
   "metadata": {},
   "source": [
    "Создание таблицы (если не существует):"
   ]
  },
  {
   "cell_type": "code",
   "execution_count": 34,
   "id": "293a2d5b-91a8-44c8-a646-4fa534fedb4a",
   "metadata": {},
   "outputs": [],
   "source": [
    "create_table_participants_data_query = '''\n",
    "CREATE TABLE IF NOT EXISTS participants_data (\n",
    "    id INTEGER,\n",
    "    gender VARCHAR(20),\n",
    "    years_of_driving_experience FLOAT,\n",
    "    region VARCHAR(100),\n",
    "    parent_region VARCHAR(100),\n",
    "    datetime TIMESTAMP,\n",
    "    violations VARCHAR(500),\n",
    "    health_status VARCHAR(100),\n",
    "    role VARCHAR(100)\n",
    ");\n",
    "'''\n",
    "\n",
    "conn = psycopg2.connect(conn_params)\n",
    "cur = conn.cursor()\n",
    "cur.execute(create_table_participants_data_query)\n",
    "conn.commit()"
   ]
  },
  {
   "cell_type": "markdown",
   "id": "65e04368-33fa-45ce-826c-648028ae42d5",
   "metadata": {},
   "source": [
    "Загрузим данные в БД из подготовленного датасета:"
   ]
  },
  {
   "cell_type": "code",
   "execution_count": 35,
   "id": "51b3b3b2-c383-40c4-bc1e-0bb2caafa7aa",
   "metadata": {},
   "outputs": [
    {
     "name": "stdout",
     "output_type": "stream",
     "text": [
      "Данные успешно загружены в базу данных.\n"
     ]
    }
   ],
   "source": [
    "conn = psycopg2.connect(conn_params)\n",
    "cur = conn.cursor()\n",
    "\n",
    "try:\n",
    "    with open('participants_data.csv', 'r') as f:\n",
    "            cur.copy_expert(\"COPY participants_data FROM STDIN WITH CSV HEADER\", f)\n",
    "    \n",
    "    conn.commit()\n",
    "    print(\"Данные успешно загружены в базу данных.\")\n",
    "\n",
    "except Exception as e:\n",
    "    print(f\"Произошла ошибка: {e}\")\n",
    "\n",
    "finally:\n",
    "    if cur:\n",
    "        cur.close()\n",
    "    if conn:\n",
    "        conn.close()"
   ]
  },
  {
   "cell_type": "markdown",
   "id": "4d4a87dd-5c84-4ecc-8e6f-1de5b4345e02",
   "metadata": {},
   "source": [
    "### 3.4. Создание материализованного представления для агрегированной информации о ДТП по регионам"
   ]
  },
  {
   "cell_type": "markdown",
   "id": "0e9d5da9-b2eb-4c61-8f50-281297ae7b95",
   "metadata": {},
   "source": [
    "Материализованное представление необходимо для ускорения работы дашборда за счет вычислений и агрегации датасета на стороне базы данных.\n",
    "\n",
    "Запрос на создание материализованного представления создает таблицу содержащую:\n",
    "* Региона (группировка)\n",
    "* Год (группировка)\n",
    "* Количество ДТП\n",
    "* Количество пострадавших\n",
    "* Количество участников\n",
    "* Количество погибших\n",
    "* Население региона"
   ]
  },
  {
   "cell_type": "code",
   "execution_count": 15,
   "id": "8ea4a803-414e-4433-97f0-49aa840c8cd4",
   "metadata": {},
   "outputs": [],
   "source": [
    "create_materialized_view_of_general_data_query = \"\"\"\n",
    "CREATE MATERIALIZED VIEW dtp_agregated_data AS\n",
    "SELECT gdd.parent_region AS region,\n",
    "       gdd.year,\n",
    "       COUNT(DISTINCT gdd.id) AS dtp_amount,\n",
    "       SUM(gdd.injured_count) AS injured_count,\n",
    "       SUM(gdd.participants_count) AS participants_count,\n",
    "       SUM(gdd.dead_count) AS dead_count,\n",
    "       MAX(rp.population) AS population\n",
    "FROM public.dtp_general_dataset gdd\n",
    "LEFT JOIN public.regions_population rp ON gdd.parent_region = rp.region AND gdd.\"year\" = rp.\"year\"\n",
    "GROUP BY gdd.parent_region, gdd.year;\n",
    "\"\"\""
   ]
  },
  {
   "cell_type": "markdown",
   "id": "c4497d05-58b5-445a-becd-cb9a257ef8e2",
   "metadata": {},
   "source": [
    "Выполнение запроса:"
   ]
  },
  {
   "cell_type": "code",
   "execution_count": 16,
   "id": "e99ee3bc-d25c-4d28-b423-f89e93504be9",
   "metadata": {},
   "outputs": [
    {
     "name": "stdout",
     "output_type": "stream",
     "text": [
      "Материализованное представление успешно создано.\n"
     ]
    }
   ],
   "source": [
    "conn = psycopg2.connect(conn_params)\n",
    "cur = conn.cursor()\n",
    "\n",
    "try:\n",
    "    # Выполняем SQL-запрос\n",
    "    cur.execute(create_materialized_view_of_general_data_query)\n",
    "\n",
    "    # Фиксируем изменения\n",
    "    conn.commit()\n",
    "    print(\"Материализованное представление успешно создано.\")\n",
    "\n",
    "except Exception as e:\n",
    "    print(f\"Произошла ошибка: {e}\")\n",
    "\n",
    "finally:\n",
    "    # Закрываем курсор и соединение\n",
    "    if cur:\n",
    "        cur.close()\n",
    "    if conn:\n",
    "        conn.close()"
   ]
  },
  {
   "cell_type": "markdown",
   "id": "9e171390-1415-491a-a03d-d2afeff803c9",
   "metadata": {},
   "source": [
    "### 3.5. Создание материализованного представления с возрастом ТС по регионам"
   ]
  },
  {
   "cell_type": "markdown",
   "id": "70ba6d27-7d5b-48c5-8291-0d091560e1ef",
   "metadata": {},
   "source": [
    "Запрос на создание материализованного представления создает таблицу содержащую:\n",
    "\n",
    "* Регион (группировка)\n",
    "* Год (группировка)\n",
    "* Средний возраст ТС"
   ]
  },
  {
   "cell_type": "code",
   "execution_count": 23,
   "id": "02973868-0235-49a4-9ab9-b5a13b0740ab",
   "metadata": {},
   "outputs": [],
   "source": [
    "create_materialized_view_of_vehicle_age_by_regions_query = \"\"\"\n",
    "CREATE MATERIALIZED VIEW vehicle_age_by_regions AS\n",
    "SELECT \n",
    "\t\tDATE_TRUNC('year', datetime) AS \"year\", \n",
    "\t\tparent_region, \n",
    "\t\tAVG(age*1.0) AS avg_age\n",
    "FROM public.vehicles_data\n",
    "GROUP BY DATE_TRUNC('year', datetime), parent_region;\n",
    "\"\"\""
   ]
  },
  {
   "cell_type": "markdown",
   "id": "9ae01991-03a0-41aa-bca0-556c175eb093",
   "metadata": {},
   "source": [
    "Выполнение запроса:"
   ]
  },
  {
   "cell_type": "code",
   "execution_count": 24,
   "id": "3cb80cc5-0e7f-4635-8c7a-a5a4f9462588",
   "metadata": {},
   "outputs": [
    {
     "name": "stdout",
     "output_type": "stream",
     "text": [
      "Материализованное представление успешно создано.\n"
     ]
    }
   ],
   "source": [
    "conn = psycopg2.connect(conn_params)\n",
    "cur = conn.cursor()\n",
    "\n",
    "try:\n",
    "    # Выполняем SQL-запрос\n",
    "    cur.execute(create_materialized_view_of_vehicle_age_by_regions_query)\n",
    "\n",
    "    # Фиксируем изменения\n",
    "    conn.commit()\n",
    "    print(\"Материализованное представление успешно создано.\")\n",
    "\n",
    "except Exception as e:\n",
    "    print(f\"Произошла ошибка: {e}\")\n",
    "\n",
    "finally:\n",
    "    # Закрываем курсор и соединение\n",
    "    if cur:\n",
    "        cur.close()\n",
    "    if conn:\n",
    "        conn.close()"
   ]
  },
  {
   "cell_type": "markdown",
   "id": "2af8cba9-0284-4179-a391-519be624218f",
   "metadata": {},
   "source": [
    "#### 3.5.1. Обновление материализованного представления с возрастом ТС по регионам"
   ]
  },
  {
   "cell_type": "markdown",
   "id": "7864ad99-3775-4252-bdd2-0ee144ca98c0",
   "metadata": {},
   "source": [
    "Запрос на обновление:"
   ]
  },
  {
   "cell_type": "code",
   "execution_count": 26,
   "id": "d7103c16-2469-4997-9a2e-e56d3b9b0621",
   "metadata": {},
   "outputs": [],
   "source": [
    "refresh_materialized_view_of_vehicle_age_by_regions_query = \"\"\"\n",
    "REFRESH MATERIALIZED VIEW vehicle_age_by_regions;\n",
    "\"\"\""
   ]
  },
  {
   "cell_type": "markdown",
   "id": "bc190c03-c6b9-4410-85c1-af8bb6f06080",
   "metadata": {},
   "source": [
    "Выполнение запроса:"
   ]
  },
  {
   "cell_type": "code",
   "execution_count": 27,
   "id": "d701e90c-7983-41e1-87e0-7b6ca8281cf3",
   "metadata": {},
   "outputs": [
    {
     "name": "stdout",
     "output_type": "stream",
     "text": [
      "Материализованное представление успешно обновлено.\n"
     ]
    }
   ],
   "source": [
    "conn = psycopg2.connect(conn_params)\n",
    "cur = conn.cursor()\n",
    "\n",
    "try:\n",
    "    # Выполняем SQL-запрос\n",
    "    cur.execute(refresh_materialized_view_of_vehicle_age_by_regions_query)\n",
    "\n",
    "    # Фиксируем изменения\n",
    "    conn.commit()\n",
    "    print(\"Материализованное представление успешно обновлено.\")\n",
    "\n",
    "except Exception as e:\n",
    "    print(f\"Произошла ошибка: {e}\")\n",
    "\n",
    "finally:\n",
    "    # Закрываем курсор и соединение\n",
    "    if cur:\n",
    "        cur.close()\n",
    "    if conn:\n",
    "        conn.close()"
   ]
  },
  {
   "cell_type": "markdown",
   "id": "ed80eec4-84bd-4c30-bd35-3ac6a4860ce9",
   "metadata": {},
   "source": [
    "### 3.6. Создание материализованного представления с количеством конкретных нарушений в разбивке по регионам"
   ]
  },
  {
   "cell_type": "markdown",
   "id": "ef2ea5ea-decb-4506-9b00-002a0dd94274",
   "metadata": {},
   "source": [
    "Запрос на создание материализованного представления создает таблицу содержащую:\n",
    "\n",
    "* Регион (группировка)\n",
    "* Год (группировка)\n",
    "* Категория нарушения (группировка)\n",
    "* Количество нарушений"
   ]
  },
  {
   "cell_type": "code",
   "execution_count": 42,
   "id": "3fed54ae-838f-4b67-aa6e-8cfbf530275f",
   "metadata": {},
   "outputs": [],
   "source": [
    "create_materialized_view_of_violations_count_by_regions_query = \"\"\"\n",
    "CREATE MATERIALIZED VIEW violations_agregated_by_region AS\n",
    "SELECT \n",
    "\t  DATE_TRUNC('year', datetime) AS \"year\",\n",
    "\t  parent_region,\n",
    "\t  violations,\n",
    "\t  COUNT(id) AS violations_count\n",
    "FROM public.participants_data\n",
    "WHERE violations <> 'unknown'\n",
    "GROUP BY DATE_TRUNC('year', datetime), parent_region, violations;\n",
    "\"\"\""
   ]
  },
  {
   "cell_type": "markdown",
   "id": "63d70660-ddc5-4d3e-ab64-1682fdfc174b",
   "metadata": {},
   "source": [
    "Выполнение запроса:"
   ]
  },
  {
   "cell_type": "code",
   "execution_count": 43,
   "id": "b4affdda-99ad-42f1-992f-e8e15fc29f35",
   "metadata": {},
   "outputs": [
    {
     "name": "stdout",
     "output_type": "stream",
     "text": [
      "Материализованное представление успешно создано.\n"
     ]
    }
   ],
   "source": [
    "conn = psycopg2.connect(conn_params)\n",
    "cur = conn.cursor()\n",
    "\n",
    "try:\n",
    "    # Выполняем SQL-запрос\n",
    "    cur.execute(create_materialized_view_of_violations_count_by_regions_query)\n",
    "\n",
    "    # Фиксируем изменения\n",
    "    conn.commit()\n",
    "    print(\"Материализованное представление успешно создано.\")\n",
    "\n",
    "except Exception as e:\n",
    "    print(f\"Произошла ошибка: {e}\")\n",
    "\n",
    "finally:\n",
    "    # Закрываем курсор и соединение\n",
    "    if cur:\n",
    "        cur.close()\n",
    "    if conn:\n",
    "        conn.close()"
   ]
  },
  {
   "cell_type": "markdown",
   "id": "f2767d43-2b8c-411a-99dc-fdb86c3dc4c1",
   "metadata": {},
   "source": [
    "### 3.6. Создание таблицы со справочником координат и геополигонов регионов РФ"
   ]
  },
  {
   "cell_type": "markdown",
   "id": "79246df8-17f3-451c-85c6-d505caa7b520",
   "metadata": {},
   "source": [
    "Запрос на создание таблицы:"
   ]
  },
  {
   "cell_type": "code",
   "execution_count": 42,
   "id": "ee426f46-99ed-42b9-bcff-421802a45d5d",
   "metadata": {},
   "outputs": [],
   "source": [
    "# Создание таблицы (если не существует)\n",
    "create_table_query = '''\n",
    "CREATE TABLE IF NOT EXISTS ru_regions (\n",
    "    name VARCHAR(100),\n",
    "    type VARCHAR(50),\n",
    "    id INTEGER,\n",
    "    region VARCHAR(100),\n",
    "    coords_type\tVARCHAR,\n",
    "    coords TEXT\n",
    ");\n",
    "'''\n",
    "cur.execute(create_table_query)\n",
    "conn.commit()"
   ]
  },
  {
   "cell_type": "markdown",
   "id": "47b4e0cf-8b7c-49c7-92d6-171a0a963669",
   "metadata": {},
   "source": [
    "Загрузка данных в таблицу:"
   ]
  },
  {
   "cell_type": "code",
   "execution_count": 43,
   "id": "253cc9d7-7141-4a64-969d-e2517732b7a5",
   "metadata": {},
   "outputs": [
    {
     "name": "stdout",
     "output_type": "stream",
     "text": [
      "Данные успешно перенесены в базу данных PostgreSQL.\n"
     ]
    }
   ],
   "source": [
    "# Вставка данных\n",
    "for index, row in df.iterrows():\n",
    "    cur.execute(\n",
    "        \"INSERT INTO ru_regions (name, type, id, region, coords_type, coords) VALUES (%s, %s, %s, %s, %s, %s)\",\n",
    "        (row['name'], row['type'], row['id'], row['region'], row['coords_type'], row['coords'])\n",
    "    )\n",
    "\n",
    "# Зафиксировать изменения\n",
    "conn.commit()\n",
    "\n",
    "# Закрытие соединения\n",
    "cur.close()\n",
    "conn.close()\n",
    "\n",
    "print(\"Данные успешно перенесены в базу данных PostgreSQL.\")"
   ]
  },
  {
   "cell_type": "markdown",
   "id": "8d56e4d0-f5b8-4f84-a537-d518e437d3d8",
   "metadata": {},
   "source": [
    "### 3.7. Создание таблицы со справочником населения регионов РФ"
   ]
  },
  {
   "cell_type": "markdown",
   "id": "6045a723-4ff5-42cd-a5f2-f967693152d8",
   "metadata": {},
   "source": [
    "Запрос на создание таблицы:"
   ]
  },
  {
   "cell_type": "code",
   "execution_count": 62,
   "id": "94754ced-600d-4494-80ae-a960a05cb640",
   "metadata": {},
   "outputs": [],
   "source": [
    "# Создание таблицы (если не существует)\n",
    "create_table_query = '''\n",
    "CREATE TABLE IF NOT EXISTS regions_population (\n",
    "    region VARCHAR(100),\n",
    "    federal_region VARCHAR(50),\n",
    "    year INTEGER,\n",
    "    population INTEGER\n",
    ");\n",
    "'''\n",
    "cur.execute(create_table_query)\n",
    "conn.commit()"
   ]
  },
  {
   "cell_type": "markdown",
   "id": "bd7eca82-cfc3-46b2-b12b-a429a6c005a4",
   "metadata": {},
   "source": [
    "Загрузка данных в таблицу:"
   ]
  },
  {
   "cell_type": "code",
   "execution_count": 98,
   "id": "e5c29b42-0619-41fe-9a24-c95c62ed2788",
   "metadata": {},
   "outputs": [
    {
     "name": "stdout",
     "output_type": "stream",
     "text": [
      "Данные успешно перенесены в базу данных PostgreSQL.\n"
     ]
    }
   ],
   "source": [
    "# Вставка данных\n",
    "for index, row in flat_table.iterrows():\n",
    "    cur.execute(\n",
    "        \"INSERT INTO regions_population (region, federal_region, year, population) VALUES (%s, %s, %s, %s)\",\n",
    "        (row['region'], row['federal_region'], row['year'], row['population'])\n",
    "    )\n",
    "\n",
    "# Зафиксировать изменения\n",
    "conn.commit()\n",
    "\n",
    "# Закрытие соединения\n",
    "cur.close()\n",
    "conn.close()\n",
    "\n",
    "print(\"Данные успешно перенесены в базу данных PostgreSQL.\")"
   ]
  }
 ],
 "metadata": {
  "kernelspec": {
   "display_name": "Python [conda env:base] *",
   "language": "python",
   "name": "conda-base-py"
  },
  "language_info": {
   "codemirror_mode": {
    "name": "ipython",
    "version": 3
   },
   "file_extension": ".py",
   "mimetype": "text/x-python",
   "name": "python",
   "nbconvert_exporter": "python",
   "pygments_lexer": "ipython3",
   "version": "3.13.5"
  }
 },
 "nbformat": 4,
 "nbformat_minor": 5
}
