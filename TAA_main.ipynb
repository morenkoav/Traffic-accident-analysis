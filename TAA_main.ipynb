{
 "cells": [
  {
   "cell_type": "markdown",
   "id": "92c8e038-fbc7-4f10-8bc3-4e404f731907",
   "metadata": {},
   "source": [
    "# Аналитика ДТП по предоставленным данным\n",
    "\n",
    "Заказчиком (Оунером задачи) выступает проект «Карта ДТП» https://dtp-stat.ru/ — некоммерческий проект, посвященный проблеме дорожно-транспортных происшествий в России. Это платформа сбора данных о ДТП, бесплатный и открытый сервис аналитики ДТП.\n",
    "\n",
    "**Цель проекта** - провести глубокий анализ данных, сформулировать и проверить гипотезы, опираясь на доступные признаки.\n",
    "\n",
    "**Задачи**\n",
    "* Провести исследовательский анализ данных о ДТП за 2025 год.\n",
    "* Сформулировать и проверить не менее трех гипотез, основываясь на имеющихся признаках.\n",
    "* Провести анализ ДТП по всем датасетам, представленным на сайте.\n",
    "* Построить дашборд используя любой удобный инструмент, с учетом того, что дашборд может быть опубликован\n",
    "\n",
    "**Декомпозиция работы:**\n",
    "* Загрузка датасета и знакомство с данными\n",
    "* Предобработка данных\n",
    "* Исследовательский анализ данных\n",
    "* Проверка гипотез\n",
    "* Общие выводы\n",
    "* Подготовка дашборда"
   ]
  },
  {
   "cell_type": "markdown",
   "id": "1c00966e-6fbf-4ed8-b95c-6dbf8879e445",
   "metadata": {},
   "source": [
    "## 1. Загрузка датасета и знакомство с данными"
   ]
  },
  {
   "cell_type": "markdown",
   "id": "d7649d45-2c67-4e16-bc3d-78ce774efe33",
   "metadata": {},
   "source": [
    "Загрузим необходимые библиотеки:"
   ]
  },
  {
   "cell_type": "code",
   "execution_count": 8,
   "id": "8862aafb-13a1-444f-8c65-e0112e86a6af",
   "metadata": {},
   "outputs": [],
   "source": [
    "#!pip install geopandas\n",
    "\n",
    "import geopandas as gpd\n",
    "import pandas as pd\n",
    "\n",
    "# Настройка отображения Jupiter\n",
    "import warnings\n",
    "warnings.filterwarnings('ignore')\n",
    "pd.set_option('display.max_columns', None) # вывод результатов без сокращения количества столбцов"
   ]
  },
  {
   "cell_type": "markdown",
   "id": "94fed7b3-365a-4859-bdb5-3b53c0328687",
   "metadata": {},
   "source": [
    "Загрузим датасет:"
   ]
  },
  {
   "cell_type": "code",
   "execution_count": 15,
   "id": "ad87303a-774f-4856-a87d-4db71b9df776",
   "metadata": {},
   "outputs": [
    {
     "name": "stderr",
     "output_type": "stream",
     "text": [
      "Skipping field tags: unsupported OGR type: 5\n",
      "Skipping field nearby: unsupported OGR type: 5\n",
      "Skipping field weather: unsupported OGR type: 5\n",
      "Skipping field road_conditions: unsupported OGR type: 5\n",
      "Skipping field participant_categories: unsupported OGR type: 5\n"
     ]
    }
   ],
   "source": [
    "gdf = gpd.read_file('krasnoiarskii-krai.geojson')"
   ]
  },
  {
   "cell_type": "markdown",
   "id": "636bead6-5583-4f36-b610-5ee7c72de392",
   "metadata": {},
   "source": [
    "Преобразуем датасет в DataFrame Pandas:"
   ]
  },
  {
   "cell_type": "code",
   "execution_count": 28,
   "id": "c319554a-abc8-4734-b918-706189f602df",
   "metadata": {},
   "outputs": [],
   "source": [
    "data = pd.DataFrame(gdf)"
   ]
  },
  {
   "cell_type": "markdown",
   "id": "908ac4cd-51c5-46c9-bfaa-a859c2515949",
   "metadata": {},
   "source": [
    "Откроем датасет и посмотрим на данные:"
   ]
  },
  {
   "cell_type": "code",
   "execution_count": 16,
   "id": "d6ae7ea0-48ad-4036-831f-312c98f76f18",
   "metadata": {},
   "outputs": [
    {
     "data": {
      "text/html": [
       "<div>\n",
       "<style scoped>\n",
       "    .dataframe tbody tr th:only-of-type {\n",
       "        vertical-align: middle;\n",
       "    }\n",
       "\n",
       "    .dataframe tbody tr th {\n",
       "        vertical-align: top;\n",
       "    }\n",
       "\n",
       "    .dataframe thead th {\n",
       "        text-align: right;\n",
       "    }\n",
       "</style>\n",
       "<table border=\"1\" class=\"dataframe\">\n",
       "  <thead>\n",
       "    <tr style=\"text-align: right;\">\n",
       "      <th></th>\n",
       "      <th>id</th>\n",
       "      <th>light</th>\n",
       "      <th>point</th>\n",
       "      <th>region</th>\n",
       "      <th>scheme</th>\n",
       "      <th>address</th>\n",
       "      <th>category</th>\n",
       "      <th>datetime</th>\n",
       "      <th>severity</th>\n",
       "      <th>vehicles</th>\n",
       "      <th>dead_count</th>\n",
       "      <th>participants</th>\n",
       "      <th>injured_count</th>\n",
       "      <th>parent_region</th>\n",
       "      <th>participants_count</th>\n",
       "      <th>geometry</th>\n",
       "    </tr>\n",
       "  </thead>\n",
       "  <tbody>\n",
       "    <tr>\n",
       "      <th>0</th>\n",
       "      <td>228398</td>\n",
       "      <td>В темное время суток, освещение включено</td>\n",
       "      <td>{ \"lat\": 53.651899999999998, \"long\": 91.573099...</td>\n",
       "      <td>Минусинский район</td>\n",
       "      <td>None</td>\n",
       "      <td>д Солдатово, ул Некрасова, 26</td>\n",
       "      <td>Наезд на пешехода</td>\n",
       "      <td>2016-04-08 19:40:00</td>\n",
       "      <td>Легкий</td>\n",
       "      <td>[ { \"year\": 2004, \"brand\": \"ВАЗ\", \"color\": \"Си...</td>\n",
       "      <td>0</td>\n",
       "      <td>[ { \"role\": \"Пешеход\", \"gender\": \"Мужской\", \"v...</td>\n",
       "      <td>2</td>\n",
       "      <td>Красноярский край</td>\n",
       "      <td>3</td>\n",
       "      <td>POINT (91.5731 53.6519)</td>\n",
       "    </tr>\n",
       "    <tr>\n",
       "      <th>1</th>\n",
       "      <td>228419</td>\n",
       "      <td>В темное время суток, освещение включено</td>\n",
       "      <td>{ \"lat\": 53.591099999999997, \"long\": 92.415599...</td>\n",
       "      <td>Минусинский район</td>\n",
       "      <td>220</td>\n",
       "      <td>с Тигрицкое, ул Зеленая, 19-1</td>\n",
       "      <td>Столкновение</td>\n",
       "      <td>2016-04-08 00:10:00</td>\n",
       "      <td>Тяжёлый</td>\n",
       "      <td>[ { \"year\": 1988, \"brand\": \"Прочие марки мотоц...</td>\n",
       "      <td>0</td>\n",
       "      <td>[ ]</td>\n",
       "      <td>1</td>\n",
       "      <td>Красноярский край</td>\n",
       "      <td>2</td>\n",
       "      <td>POINT (92.4156 53.5911)</td>\n",
       "    </tr>\n",
       "    <tr>\n",
       "      <th>2</th>\n",
       "      <td>226939</td>\n",
       "      <td>Светлое время суток</td>\n",
       "      <td>{ \"lat\": 53.784477000000003, \"long\": 92.198639 }</td>\n",
       "      <td>Минусинский район</td>\n",
       "      <td>200</td>\n",
       "      <td>Минусинск-Курагино-Артемовск, 35 км</td>\n",
       "      <td>Столкновение</td>\n",
       "      <td>2019-12-31 09:15:00</td>\n",
       "      <td>С погибшими</td>\n",
       "      <td>[ { \"year\": 1990, \"brand\": \"TOYOTA\", \"color\": ...</td>\n",
       "      <td>3</td>\n",
       "      <td>[ ]</td>\n",
       "      <td>0</td>\n",
       "      <td>Красноярский край</td>\n",
       "      <td>3</td>\n",
       "      <td>POINT (92.19864 53.78448)</td>\n",
       "    </tr>\n",
       "    <tr>\n",
       "      <th>3</th>\n",
       "      <td>226971</td>\n",
       "      <td>В темное время суток, освещение отсутствует</td>\n",
       "      <td>{ \"lat\": 53.678899999999999, \"long\": 91.716899...</td>\n",
       "      <td>Минусинский район</td>\n",
       "      <td>300</td>\n",
       "      <td>Р-257 Енисей Красноярск - Абакан - Кызыл - гра...</td>\n",
       "      <td>Столкновение</td>\n",
       "      <td>2016-12-27 08:10:00</td>\n",
       "      <td>Тяжёлый</td>\n",
       "      <td>[ { \"year\": 2012, \"brand\": \"УАЗ\", \"color\": \"Мн...</td>\n",
       "      <td>0</td>\n",
       "      <td>[ ]</td>\n",
       "      <td>3</td>\n",
       "      <td>Красноярский край</td>\n",
       "      <td>5</td>\n",
       "      <td>POINT (91.7169 53.6789)</td>\n",
       "    </tr>\n",
       "    <tr>\n",
       "      <th>4</th>\n",
       "      <td>226982</td>\n",
       "      <td>Светлое время суток</td>\n",
       "      <td>{ \"lat\": 53.658299999999997, \"long\": 91.760300...</td>\n",
       "      <td>Минусинский район</td>\n",
       "      <td>610</td>\n",
       "      <td>Р-257 Енисей Красноярск - Абакан - Кызыл - гра...</td>\n",
       "      <td>Наезд на препятствие</td>\n",
       "      <td>2016-12-19 11:10:00</td>\n",
       "      <td>Тяжёлый</td>\n",
       "      <td>[ { \"year\": 2012, \"brand\": \"ВАЗ\", \"color\": \"Мн...</td>\n",
       "      <td>0</td>\n",
       "      <td>[ ]</td>\n",
       "      <td>1</td>\n",
       "      <td>Красноярский край</td>\n",
       "      <td>2</td>\n",
       "      <td>POINT (91.7603 53.6583)</td>\n",
       "    </tr>\n",
       "  </tbody>\n",
       "</table>\n",
       "</div>"
      ],
      "text/plain": [
       "       id                                        light  \\\n",
       "0  228398     В темное время суток, освещение включено   \n",
       "1  228419     В темное время суток, освещение включено   \n",
       "2  226939                          Светлое время суток   \n",
       "3  226971  В темное время суток, освещение отсутствует   \n",
       "4  226982                          Светлое время суток   \n",
       "\n",
       "                                               point             region  \\\n",
       "0  { \"lat\": 53.651899999999998, \"long\": 91.573099...  Минусинский район   \n",
       "1  { \"lat\": 53.591099999999997, \"long\": 92.415599...  Минусинский район   \n",
       "2   { \"lat\": 53.784477000000003, \"long\": 92.198639 }  Минусинский район   \n",
       "3  { \"lat\": 53.678899999999999, \"long\": 91.716899...  Минусинский район   \n",
       "4  { \"lat\": 53.658299999999997, \"long\": 91.760300...  Минусинский район   \n",
       "\n",
       "  scheme                                            address  \\\n",
       "0   None                      д Солдатово, ул Некрасова, 26   \n",
       "1    220                      с Тигрицкое, ул Зеленая, 19-1   \n",
       "2    200                Минусинск-Курагино-Артемовск, 35 км   \n",
       "3    300  Р-257 Енисей Красноярск - Абакан - Кызыл - гра...   \n",
       "4    610  Р-257 Енисей Красноярск - Абакан - Кызыл - гра...   \n",
       "\n",
       "               category            datetime     severity  \\\n",
       "0     Наезд на пешехода 2016-04-08 19:40:00       Легкий   \n",
       "1          Столкновение 2016-04-08 00:10:00      Тяжёлый   \n",
       "2          Столкновение 2019-12-31 09:15:00  С погибшими   \n",
       "3          Столкновение 2016-12-27 08:10:00      Тяжёлый   \n",
       "4  Наезд на препятствие 2016-12-19 11:10:00      Тяжёлый   \n",
       "\n",
       "                                            vehicles  dead_count  \\\n",
       "0  [ { \"year\": 2004, \"brand\": \"ВАЗ\", \"color\": \"Си...           0   \n",
       "1  [ { \"year\": 1988, \"brand\": \"Прочие марки мотоц...           0   \n",
       "2  [ { \"year\": 1990, \"brand\": \"TOYOTA\", \"color\": ...           3   \n",
       "3  [ { \"year\": 2012, \"brand\": \"УАЗ\", \"color\": \"Мн...           0   \n",
       "4  [ { \"year\": 2012, \"brand\": \"ВАЗ\", \"color\": \"Мн...           0   \n",
       "\n",
       "                                        participants  injured_count  \\\n",
       "0  [ { \"role\": \"Пешеход\", \"gender\": \"Мужской\", \"v...              2   \n",
       "1                                                [ ]              1   \n",
       "2                                                [ ]              0   \n",
       "3                                                [ ]              3   \n",
       "4                                                [ ]              1   \n",
       "\n",
       "       parent_region  participants_count                   geometry  \n",
       "0  Красноярский край                   3    POINT (91.5731 53.6519)  \n",
       "1  Красноярский край                   2    POINT (92.4156 53.5911)  \n",
       "2  Красноярский край                   3  POINT (92.19864 53.78448)  \n",
       "3  Красноярский край                   5    POINT (91.7169 53.6789)  \n",
       "4  Красноярский край                   2    POINT (91.7603 53.6583)  "
      ]
     },
     "execution_count": 16,
     "metadata": {},
     "output_type": "execute_result"
    }
   ],
   "source": [
    "data.head(5)"
   ]
  },
  {
   "cell_type": "markdown",
   "id": "c797ac39-1dd0-465c-ac95-579a76f1814e",
   "metadata": {},
   "source": [
    "Посмотрим общую информацию о датасете:"
   ]
  },
  {
   "cell_type": "code",
   "execution_count": 17,
   "id": "887e96c6-ffa3-4cdf-bb86-b1aa5f6bb17f",
   "metadata": {},
   "outputs": [
    {
     "name": "stdout",
     "output_type": "stream",
     "text": [
      "<class 'geopandas.geodataframe.GeoDataFrame'>\n",
      "RangeIndex: 35121 entries, 0 to 35120\n",
      "Data columns (total 16 columns):\n",
      " #   Column              Non-Null Count  Dtype         \n",
      "---  ------              --------------  -----         \n",
      " 0   id                  35121 non-null  int32         \n",
      " 1   light               35121 non-null  object        \n",
      " 2   point               35121 non-null  object        \n",
      " 3   region              35121 non-null  object        \n",
      " 4   scheme              29290 non-null  object        \n",
      " 5   address             33224 non-null  object        \n",
      " 6   category            35121 non-null  object        \n",
      " 7   datetime            35121 non-null  datetime64[ms]\n",
      " 8   severity            35121 non-null  object        \n",
      " 9   vehicles            35121 non-null  object        \n",
      " 10  dead_count          35121 non-null  int32         \n",
      " 11  participants        35121 non-null  object        \n",
      " 12  injured_count       35121 non-null  int32         \n",
      " 13  parent_region       35121 non-null  object        \n",
      " 14  participants_count  35121 non-null  int32         \n",
      " 15  geometry            35119 non-null  geometry      \n",
      "dtypes: datetime64[ms](1), geometry(1), int32(4), object(10)\n",
      "memory usage: 3.8+ MB\n"
     ]
    }
   ],
   "source": [
    "data.info()"
   ]
  },
  {
   "cell_type": "markdown",
   "id": "845806a4-eaeb-4076-9428-5969fb8baa96",
   "metadata": {},
   "source": [
    "Исходный датасет содержит 35121 запись о ДТП с 16 признаками:\n",
    "\n",
    "* `id`: идентификатор\n",
    "* `light`: время суток\n",
    "* `point`: координаты (гео)\n",
    "* `nearby`: комментарий по месту происшествия (где произошло)\n",
    "* `region`: город/район\n",
    "* `address`: адрес\n",
    "* `weather`: погода\n",
    "* `category`: тип ДТП\n",
    "* `datetime`: дата и время происшествия\n",
    "* `severity`: тяжесть ДТП/вред здоровью\n",
    "* `vehicles`: участники – транспортные средства:\n",
    "    * `year`: год производства транспортного средства\n",
    "    * `brand`: марка транспортного средства\n",
    "    * `color`: цвет транспортного средства\n",
    "    * `model`: модель транспортного средства\n",
    "    * `category`: категория транспортного средства\n",
    "    * `role`: роль участника\n",
    "    * `gender`: пол участника\n",
    "    * `violations`: нарушения правил участником\n",
    "    * `health_status`: состояние здоровья участника\n",
    "    * `years_of_driving_experience`: стаж вождения участника (только у водителей)\n",
    "* `dead_count`: кол-во погибших в ДТП\n",
    "* `participants`: участники без транспортных средств (описание, как у участников внутри транспортных средств)\n",
    "* `injured_count`: кол-во раненых в ДТП\n",
    "* `parent_region`: родительский регион\n",
    "* `road_conditions`: состояние дорожного покрытия\n",
    "* `participants_count`: кол-во участников ДТП\n",
    "* `participant_categories`: категории участников"
   ]
  },
  {
   "cell_type": "markdown",
   "id": "48c5e546-8fdf-4525-ae4f-34a38f19a4b8",
   "metadata": {},
   "source": [
    "## 2. Предобработка данных"
   ]
  },
  {
   "cell_type": "markdown",
   "id": "8f208ab8-4f04-4c37-8b72-821e7a400253",
   "metadata": {},
   "source": [
    "Задачи данного раздела:\n",
    "\n",
    "* Привести типы данных в соответствие\n",
    "* Проверить пропуски в датасете и обработать их\n",
    "* Проверить наличие явных и неявных дубликатов и обработать их\n",
    "* По возможности дообогатить данные на основе имеющихся"
   ]
  },
  {
   "cell_type": "markdown",
   "id": "f0fb9679-834d-4f0d-a7bb-f8458a7763d5",
   "metadata": {},
   "source": [
    "### 2.1. Обработка пропусков данных"
   ]
  },
  {
   "cell_type": "markdown",
   "id": "3e10de1b-5b8d-41a8-b6bf-38c55f8f37be",
   "metadata": {},
   "source": [
    "Проверим наличие NAN и NULL в датасете:"
   ]
  },
  {
   "cell_type": "code",
   "execution_count": 18,
   "id": "859cf9ce-faf8-42da-a978-ef760e6e95ae",
   "metadata": {},
   "outputs": [
    {
     "name": "stdout",
     "output_type": "stream",
     "text": [
      "========================================\n",
      "NULLS\n",
      "id                       0\n",
      "light                    0\n",
      "point                    0\n",
      "region                   0\n",
      "scheme                5831\n",
      "address               1897\n",
      "category                 0\n",
      "datetime                 0\n",
      "severity                 0\n",
      "vehicles                 0\n",
      "dead_count               0\n",
      "participants             0\n",
      "injured_count            0\n",
      "parent_region            0\n",
      "participants_count       0\n",
      "geometry                 2\n",
      "dtype: int64\n",
      "========================================\n",
      "NANs\n",
      "id                       0\n",
      "light                    0\n",
      "point                    0\n",
      "region                   0\n",
      "scheme                5831\n",
      "address               1897\n",
      "category                 0\n",
      "datetime                 0\n",
      "severity                 0\n",
      "vehicles                 0\n",
      "dead_count               0\n",
      "participants             0\n",
      "injured_count            0\n",
      "parent_region            0\n",
      "participants_count       0\n",
      "geometry                 2\n",
      "dtype: int64\n",
      "========================================\n"
     ]
    }
   ],
   "source": [
    "print(20*'==')\n",
    "print('NULLS')\n",
    "print(data.isnull().sum())\n",
    "print(20*'==')\n",
    "print('NANs')\n",
    "print(data.isna().sum())\n",
    "print(20*'==')"
   ]
  },
  {
   "cell_type": "markdown",
   "id": "00686f5a-4ac7-4578-a213-148fc399f399",
   "metadata": {},
   "source": [
    "Обнаружены пропуски в трех полях - `scheme` (данное поле не указано в описании данных), `address`, `geometry`.\n",
    "\n",
    "Проверим какие данные содержатся в поле `scheme`:"
   ]
  },
  {
   "cell_type": "code",
   "execution_count": 19,
   "id": "c47a1552-6946-4461-89e8-db002a03c5d2",
   "metadata": {},
   "outputs": [
    {
     "data": {
      "text/plain": [
       "array([None, '220', '200', '300', '610', '600', '860', '910', '070',\n",
       "       '810', '950', '430', '900', '500', '830', '030', '140', '850',\n",
       "       '210', '040', '880', '400', '820', '940', '930', '190', '110',\n",
       "       '130', '120', '840', '420', '100', '090', '060', '870', '050',\n",
       "       '010', '800', '630', '920', '780', '760', '740', '620', '330',\n",
       "       '960', '020', '980', '720', '410', '310', '770', '700', '750',\n",
       "       '230', '730', '710', '970', '340', '440', '320'], dtype=object)"
      ]
     },
     "execution_count": 19,
     "metadata": {},
     "output_type": "execute_result"
    }
   ],
   "source": [
    "data['scheme'].unique()"
   ]
  },
  {
   "cell_type": "markdown",
   "id": "68cb2235-80db-41ff-a406-49d873beb62f",
   "metadata": {},
   "source": [
    "Здесь в основном представлены трехзначные числа в формате строки. Заполним пропуски заглушкой \"unknown\""
   ]
  },
  {
   "cell_type": "code",
   "execution_count": 21,
   "id": "af6eb0a0-33cb-4564-ad48-e815227d98cf",
   "metadata": {},
   "outputs": [],
   "source": [
    "data['scheme'] = data['scheme'].fillna('unknown')"
   ]
  },
  {
   "cell_type": "code",
   "execution_count": 22,
   "id": "2fdb1709-243b-49d5-9284-35fcf269cdd0",
   "metadata": {},
   "outputs": [
    {
     "data": {
      "text/plain": [
       "array(['unknown', '220', '200', '300', '610', '600', '860', '910', '070',\n",
       "       '810', '950', '430', '900', '500', '830', '030', '140', '850',\n",
       "       '210', '040', '880', '400', '820', '940', '930', '190', '110',\n",
       "       '130', '120', '840', '420', '100', '090', '060', '870', '050',\n",
       "       '010', '800', '630', '920', '780', '760', '740', '620', '330',\n",
       "       '960', '020', '980', '720', '410', '310', '770', '700', '750',\n",
       "       '230', '730', '710', '970', '340', '440', '320'], dtype=object)"
      ]
     },
     "execution_count": 22,
     "metadata": {},
     "output_type": "execute_result"
    }
   ],
   "source": [
    "data['scheme'].unique()"
   ]
  },
  {
   "cell_type": "markdown",
   "id": "a8565388-54e8-4b17-b963-ba7b352e2164",
   "metadata": {},
   "source": [
    "Пропуски по полю `address` также заполним заглушкой:"
   ]
  },
  {
   "cell_type": "code",
   "execution_count": 25,
   "id": "a326aefb-2b3a-439e-87d6-a3518f380b2f",
   "metadata": {},
   "outputs": [],
   "source": [
    "data['address'] = data['address'].fillna('unknown')"
   ]
  },
  {
   "cell_type": "markdown",
   "id": "57dd8ba2-9546-4545-92f7-d9aca036387b",
   "metadata": {},
   "source": [
    "Проверим пропуски по полю `geometry`:"
   ]
  },
  {
   "cell_type": "code",
   "execution_count": 29,
   "id": "d0e10ebc-d8c2-493c-86cc-fd591d0626f1",
   "metadata": {},
   "outputs": [
    {
     "data": {
      "text/html": [
       "<div>\n",
       "<style scoped>\n",
       "    .dataframe tbody tr th:only-of-type {\n",
       "        vertical-align: middle;\n",
       "    }\n",
       "\n",
       "    .dataframe tbody tr th {\n",
       "        vertical-align: top;\n",
       "    }\n",
       "\n",
       "    .dataframe thead th {\n",
       "        text-align: right;\n",
       "    }\n",
       "</style>\n",
       "<table border=\"1\" class=\"dataframe\">\n",
       "  <thead>\n",
       "    <tr style=\"text-align: right;\">\n",
       "      <th></th>\n",
       "      <th>id</th>\n",
       "      <th>light</th>\n",
       "      <th>point</th>\n",
       "      <th>region</th>\n",
       "      <th>scheme</th>\n",
       "      <th>address</th>\n",
       "      <th>category</th>\n",
       "      <th>datetime</th>\n",
       "      <th>severity</th>\n",
       "      <th>vehicles</th>\n",
       "      <th>dead_count</th>\n",
       "      <th>participants</th>\n",
       "      <th>injured_count</th>\n",
       "      <th>parent_region</th>\n",
       "      <th>participants_count</th>\n",
       "      <th>geometry</th>\n",
       "    </tr>\n",
       "  </thead>\n",
       "  <tbody>\n",
       "    <tr>\n",
       "      <th>5127</th>\n",
       "      <td>235251</td>\n",
       "      <td>В темное время суток, освещение не включено</td>\n",
       "      <td>{ \"lat\": null, \"long\": null }</td>\n",
       "      <td>Уярский район</td>\n",
       "      <td>830</td>\n",
       "      <td>с Сушиновка, ул Лесная, 20</td>\n",
       "      <td>Наезд на пешехода</td>\n",
       "      <td>2017-10-14 18:50:00</td>\n",
       "      <td>Легкий</td>\n",
       "      <td>[ { \"year\": 2001, \"brand\": \"TOYOTA\", \"color\": ...</td>\n",
       "      <td>0</td>\n",
       "      <td>[ { \"role\": \"Пешеход\", \"gender\": \"Женский\", \"v...</td>\n",
       "      <td>1</td>\n",
       "      <td>Красноярский край</td>\n",
       "      <td>2</td>\n",
       "      <td>None</td>\n",
       "    </tr>\n",
       "    <tr>\n",
       "      <th>8251</th>\n",
       "      <td>240683</td>\n",
       "      <td>Светлое время суток</td>\n",
       "      <td>{ \"lat\": null, \"long\": null }</td>\n",
       "      <td>Козульский район</td>\n",
       "      <td>200</td>\n",
       "      <td>Р-255 Сибирь Новосибирск - Кемерово - Краснояр...</td>\n",
       "      <td>Столкновение</td>\n",
       "      <td>2016-11-26 12:25:00</td>\n",
       "      <td>Легкий</td>\n",
       "      <td>[ { \"year\": 2002, \"brand\": \"NISSAN\", \"color\": ...</td>\n",
       "      <td>0</td>\n",
       "      <td>[ ]</td>\n",
       "      <td>1</td>\n",
       "      <td>Красноярский край</td>\n",
       "      <td>2</td>\n",
       "      <td>None</td>\n",
       "    </tr>\n",
       "  </tbody>\n",
       "</table>\n",
       "</div>"
      ],
      "text/plain": [
       "          id                                        light  \\\n",
       "5127  235251  В темное время суток, освещение не включено   \n",
       "8251  240683                          Светлое время суток   \n",
       "\n",
       "                              point            region scheme  \\\n",
       "5127  { \"lat\": null, \"long\": null }     Уярский район    830   \n",
       "8251  { \"lat\": null, \"long\": null }  Козульский район    200   \n",
       "\n",
       "                                                address           category  \\\n",
       "5127                         с Сушиновка, ул Лесная, 20  Наезд на пешехода   \n",
       "8251  Р-255 Сибирь Новосибирск - Кемерово - Краснояр...       Столкновение   \n",
       "\n",
       "                datetime severity  \\\n",
       "5127 2017-10-14 18:50:00   Легкий   \n",
       "8251 2016-11-26 12:25:00   Легкий   \n",
       "\n",
       "                                               vehicles  dead_count  \\\n",
       "5127  [ { \"year\": 2001, \"brand\": \"TOYOTA\", \"color\": ...           0   \n",
       "8251  [ { \"year\": 2002, \"brand\": \"NISSAN\", \"color\": ...           0   \n",
       "\n",
       "                                           participants  injured_count  \\\n",
       "5127  [ { \"role\": \"Пешеход\", \"gender\": \"Женский\", \"v...              1   \n",
       "8251                                                [ ]              1   \n",
       "\n",
       "          parent_region  participants_count geometry  \n",
       "5127  Красноярский край                   2     None  \n",
       "8251  Красноярский край                   2     None  "
      ]
     },
     "execution_count": 29,
     "metadata": {},
     "output_type": "execute_result"
    }
   ],
   "source": [
    "data[data['geometry'].isna()]"
   ]
  },
  {
   "cell_type": "markdown",
   "id": "c3b1ed7b-4215-4ff2-92a6-13ecd7e35671",
   "metadata": {},
   "source": [
    "Точки нигде не указаны, удалим данные строки."
   ]
  },
  {
   "cell_type": "code",
   "execution_count": null,
   "id": "2c466552-2451-410a-b746-3ac8a5616316",
   "metadata": {},
   "outputs": [],
   "source": []
  }
 ],
 "metadata": {
  "kernelspec": {
   "display_name": "Python 3 (ipykernel)",
   "language": "python",
   "name": "python3"
  },
  "language_info": {
   "codemirror_mode": {
    "name": "ipython",
    "version": 3
   },
   "file_extension": ".py",
   "mimetype": "text/x-python",
   "name": "python",
   "nbconvert_exporter": "python",
   "pygments_lexer": "ipython3",
   "version": "3.13.2"
  }
 },
 "nbformat": 4,
 "nbformat_minor": 5
}
