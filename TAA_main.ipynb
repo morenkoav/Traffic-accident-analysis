{
 "cells": [
  {
   "cell_type": "markdown",
   "id": "92c8e038-fbc7-4f10-8bc3-4e404f731907",
   "metadata": {},
   "source": [
    "# Аналитика ДТП по предоставленным данным\n",
    "\n",
    "Заказчиком (Оунером задачи) выступает проект «Карта ДТП» https://dtp-stat.ru/ — некоммерческий проект, посвященный проблеме дорожно-транспортных происшествий в России. Это платформа сбора данных о ДТП, бесплатный и открытый сервис аналитики ДТП.\n",
    "\n",
    "**Цель проекта** - провести глубокий анализ данных, сформулировать и проверить гипотезы, опираясь на доступные признаки.\n",
    "\n",
    "**Задачи**\n",
    "* Провести исследовательский анализ данных о ДТП за 2025 год.\n",
    "* Сформулировать и проверить не менее трех гипотез, основываясь на имеющихся признаках.\n",
    "* Провести анализ ДТП по всем датасетам, представленным на сайте.\n",
    "* Построить дашборд используя любой удобный инструмент, с учетом того, что дашборд может быть опубликован\n",
    "\n",
    "**Декомпозиция работы:**\n",
    "* Загрузка датасета и знакомство с данными\n",
    "* Предобработка данных\n",
    "* Исследовательский анализ данных\n",
    "* Проверка гипотез\n",
    "* Общие выводы\n",
    "* Подготовка дашборда"
   ]
  },
  {
   "cell_type": "markdown",
   "id": "1c00966e-6fbf-4ed8-b95c-6dbf8879e445",
   "metadata": {},
   "source": [
    "## 1. Загрузка датасета и знакомство с данными"
   ]
  },
  {
   "cell_type": "markdown",
   "id": "d7649d45-2c67-4e16-bc3d-78ce774efe33",
   "metadata": {},
   "source": [
    "Загрузим необходимые библиотеки:"
   ]
  },
  {
   "cell_type": "code",
   "execution_count": 17,
   "id": "8862aafb-13a1-444f-8c65-e0112e86a6af",
   "metadata": {},
   "outputs": [],
   "source": [
    "#!pip install geopandas\n",
    "\n",
    "import os\n",
    "import geopandas as gpd\n",
    "import pandas as pd\n",
    "from shapely import wkt\n",
    "\n",
    "# Настройка отображения Jupiter\n",
    "import warnings\n",
    "warnings.filterwarnings('ignore')\n",
    "pd.set_option('display.max_columns', None) # вывод результатов без сокращения количества столбцов"
   ]
  },
  {
   "cell_type": "markdown",
   "id": "703bf078-dd8d-4705-a9ab-a7cacd6ea44a",
   "metadata": {},
   "source": [
    "**Для скачивания датасетов с сайта - необходимо использовать скрипт из ноутбука \"DataLoader.ipynb\"**"
   ]
  },
  {
   "cell_type": "markdown",
   "id": "94fed7b3-365a-4859-bdb5-3b53c0328687",
   "metadata": {},
   "source": [
    "Загрузим данные:"
   ]
  },
  {
   "cell_type": "code",
   "execution_count": 18,
   "id": "ad87303a-774f-4856-a87d-4db71b9df776",
   "metadata": {},
   "outputs": [
    {
     "name": "stdout",
     "output_type": "stream",
     "text": [
      "Загружено 10307 строк из novgorodskaia-oblast.geojson\n",
      "Загружено 27892 строк из tiumenskaia-oblast.geojson\n",
      "Загружено 5855 строк из sevastopol.geojson\n",
      "Загружено 41694 строк из cheliabinskaia-oblast.geojson\n",
      "Загружено 7015 строк из respublika-kareliia.geojson\n",
      "Загружено 25787 строк из volgogradskaia-oblast.geojson\n",
      "Загружено 20977 строк из vladimirskaia-oblast.geojson\n",
      "Загружено 2323 строк из magadanskaia-oblast.geojson\n",
      "Загружено 10181 строк из kurganskaia-oblast.geojson\n",
      "Загружено 29859 строк из sverdlovskaia-oblast.geojson\n",
      "Загружено 16533 строк из respublika-dagestan.geojson\n",
      "Загружено 5274 строк из respublika-tyva.geojson\n",
      "Загружено 2589 строк из chechenskaia-respublika.geojson\n",
      "Загружено 12534 строк из arkhangelskaia-oblast.geojson\n",
      "Загружено 5254 строк из respublika-kalmykiia.geojson\n",
      "Загружено 13438 строк из tambovskaia-oblast.geojson\n",
      "Загружено 28453 строк из omskaia-oblast.geojson\n",
      "Загружено 6748 строк из kabardino-balkarskaia-respublika.geojson\n",
      "Загружено 4274 строк из iamalo-nenetskii-avtonomnyi-okrug.geojson\n",
      "Загружено 2155 строк из respublika-ingushetiia.geojson\n",
      "Загружено 12365 строк из zabaikalskii-krai.geojson\n",
      "Загружено 6076 строк из respublika-khakasiia.geojson\n",
      "Загружено 15006 строк из vologodskaia-oblast.geojson\n",
      "Загружено 17354 строк из riazanskaia-oblast.geojson\n",
      "Загружено 12404 строк из amurskaia-oblast.geojson\n",
      "Загружено 12764 строк из ulianovskaia-oblast.geojson\n",
      "Загружено 11534 строк из kaliningradskaia-oblast.geojson\n",
      "Загружено 292 строк из nenetskii-avtonomnyi-okrug.geojson\n",
      "Загружено 4997 строк из karachaevo-cherkesskaia-respublika.geojson\n",
      "Загружено 2282 строк из evreiskaia-avtonomnaia-oblast.geojson\n",
      "Загружено 4827 строк из kamchatskii-krai.geojson\n",
      "Загружено 35832 строк из samarskaia-oblast.geojson\n",
      "Загружено 41116 строк из respublika-bashkortostan.geojson\n",
      "Загружено 9073 строк из respublika-mordoviia.geojson\n",
      "Загружено 29982 строк из irkutskaia-oblast.geojson\n",
      "Загружено 17303 строк из khabarovskii-krai.geojson\n",
      "Загружено 10166 строк из respublika-komi.geojson\n",
      "Загружено 17261 строк из udmurtskaia-respublika.geojson\n",
      "Загружено 91749 строк из moskva.geojson\n",
      "Загружено 8065 строк из respublika-marii-el.geojson\n",
      "Загружено 8811 строк из respublika-sakha-iakutiia.geojson\n",
      "Загружено 10106 строк из smolenskaia-oblast.geojson\n",
      "Загружено 17896 строк из respublika-krym.geojson\n",
      "Загружено 12186 строк из chuvashskaia-respublika-chuvashiia.geojson\n",
      "Загружено 11672 строк из respublika-buriatiia.geojson\n",
      "Загружено 226 строк из chukotskii-avtonomnyi-okrug.geojson\n",
      "Загружено 14745 строк из kaluzhskaia-oblast.geojson\n",
      "Загружено 12751 строк из belgorodskaia-oblast.geojson\n",
      "Загружено 29644 строк из stavropolskii-krai.geojson\n",
      "Загружено 56671 строк из sankt-peterburg.geojson\n",
      "Загружено 6612 строк из tomskaia-oblast.geojson\n",
      "Загружено 3377 строк из respublika-altai.geojson\n",
      "Загружено 8388 строк из respublika-severnaia-osetiia-alaniia.geojson\n",
      "Загружено 12613 строк из ivanovskaia-oblast.geojson\n",
      "Загружено 16343 строк из khanty-mansiiskii-avtonomnyi-okrug-iugra.geojson\n",
      "Загружено 6183 строк из sakhalinskaia-oblast.geojson\n",
      "Загружено 14590 строк из lipetskaia-oblast.geojson\n",
      "Загружено 26465 строк из leningradskaia-oblast.geojson\n",
      "Загружено 9484 строк из pskovskaia-oblast.geojson\n",
      "Загружено 21240 строк из tulskaia-oblast.geojson\n",
      "Загружено 11961 строк из astrakhanskaia-oblast.geojson\n",
      "Загружено 14911 строк из kurskaia-oblast.geojson\n",
      "Загружено 16951 строк из kirovskaia-oblast.geojson\n",
      "Загружено 7975 строк из murmanskaia-oblast.geojson\n",
      "Загружено 43066 строк из respublika-tatarstan-tatarstan.geojson\n",
      "Загружено 8215 строк из kostromskaia-oblast.geojson\n",
      "Загружено 28245 строк из kemerovskaia-oblast-kuzbass.geojson\n",
      "Загружено 17937 строк из tverskaia-oblast.geojson\n",
      "Загружено 9899 строк из brianskaia-oblast.geojson\n",
      "Загружено 62993 строк из krasnodarskii-krai.geojson\n",
      "Загружено 35640 строк из krasnoiarskii-krai.geojson\n",
      "Загружено 29260 строк из permskii-krai.geojson\n",
      "Загружено 5077 строк из respublika-adygeia-adygeia.geojson\n",
      "Загружено 18969 строк из orenburgskaia-oblast.geojson\n",
      "Загружено 56155 строк из moskovskaia-oblast.geojson\n",
      "Загружено 29974 строк из voronezhskaia-oblast.geojson\n",
      "Загружено 18338 строк из penzenskaia-oblast.geojson\n",
      "Загружено 17675 строк из iaroslavskaia-oblast.geojson\n",
      "Загружено 8383 строк из orlovskaia-oblast.geojson\n",
      "Загружено 30712 строк из saratovskaia-oblast.geojson\n",
      "Загружено 28141 строк из primorskii-krai.geojson\n",
      "Итого строк во всех файлах: 1440070\n"
     ]
    }
   ],
   "source": [
    "all_records = []\n",
    "\n",
    "DOWNLOAD_DIR = 'geojson_files'\n",
    "\n",
    "# перебираем все .geojson в папке\n",
    "for filename in os.listdir(DOWNLOAD_DIR):\n",
    "    if filename.endswith(\".geojson\"):\n",
    "        path = os.path.join(DOWNLOAD_DIR, filename)\n",
    "        try:\n",
    "            with open(path, encoding=\"utf-8\") as f:\n",
    "                data = json.load(f)\n",
    "            accidents = data[\"features\"]\n",
    "\n",
    "            records = []\n",
    "            for feature in accidents:\n",
    "                props = feature[\"properties\"].copy()\n",
    "                props[\"geometry\"] = feature[\"geometry\"]\n",
    "                records.append(props)\n",
    "\n",
    "            all_records.extend(records)\n",
    "            print(f\"Загружено {len(records)} строк из {filename}\")\n",
    "\n",
    "        except Exception as e:\n",
    "            print(f\"Ошибка при обработке {filename}: {e}\")\n",
    "\n",
    "# объединяем в один датафрейм\n",
    "data = pd.DataFrame(all_records)\n",
    "print(f\"Итого строк во всех файлах: {len(data)}\")"
   ]
  },
  {
   "cell_type": "markdown",
   "id": "908ac4cd-51c5-46c9-bfaa-a859c2515949",
   "metadata": {},
   "source": [
    "Откроем датасет и посмотрим на данные:"
   ]
  },
  {
   "cell_type": "code",
   "execution_count": 19,
   "id": "d6ae7ea0-48ad-4036-831f-312c98f76f18",
   "metadata": {},
   "outputs": [
    {
     "data": {
      "text/html": [
       "<div>\n",
       "<style scoped>\n",
       "    .dataframe tbody tr th:only-of-type {\n",
       "        vertical-align: middle;\n",
       "    }\n",
       "\n",
       "    .dataframe tbody tr th {\n",
       "        vertical-align: top;\n",
       "    }\n",
       "\n",
       "    .dataframe thead th {\n",
       "        text-align: right;\n",
       "    }\n",
       "</style>\n",
       "<table border=\"1\" class=\"dataframe\">\n",
       "  <thead>\n",
       "    <tr style=\"text-align: right;\">\n",
       "      <th></th>\n",
       "      <th>id</th>\n",
       "      <th>tags</th>\n",
       "      <th>light</th>\n",
       "      <th>point</th>\n",
       "      <th>nearby</th>\n",
       "      <th>region</th>\n",
       "      <th>scheme</th>\n",
       "      <th>address</th>\n",
       "      <th>weather</th>\n",
       "      <th>category</th>\n",
       "      <th>datetime</th>\n",
       "      <th>severity</th>\n",
       "      <th>vehicles</th>\n",
       "      <th>dead_count</th>\n",
       "      <th>participants</th>\n",
       "      <th>injured_count</th>\n",
       "      <th>parent_region</th>\n",
       "      <th>road_conditions</th>\n",
       "      <th>participants_count</th>\n",
       "      <th>participant_categories</th>\n",
       "      <th>geometry</th>\n",
       "    </tr>\n",
       "  </thead>\n",
       "  <tbody>\n",
       "    <tr>\n",
       "      <th>0</th>\n",
       "      <td>1504730</td>\n",
       "      <td>[Дорожно-транспортные происшествия]</td>\n",
       "      <td>Светлое время суток</td>\n",
       "      <td>{'lat': 58.332904, 'long': 30.415138}</td>\n",
       "      <td>[]</td>\n",
       "      <td>Шимский район</td>\n",
       "      <td>200</td>\n",
       "      <td>Медведь-Батецкий, 7 км</td>\n",
       "      <td>[Ясно]</td>\n",
       "      <td>Столкновение</td>\n",
       "      <td>2025-05-01 12:55:00</td>\n",
       "      <td>С погибшими</td>\n",
       "      <td>[{'year': 2012, 'brand': 'KIA', 'color': 'Серы...</td>\n",
       "      <td>1</td>\n",
       "      <td>[]</td>\n",
       "      <td>0</td>\n",
       "      <td>Новгородская область</td>\n",
       "      <td>[Сухое]</td>\n",
       "      <td>3</td>\n",
       "      <td>[Все участники, Мотоциклисты]</td>\n",
       "      <td>{'type': 'Point', 'coordinates': [30.415138, 5...</td>\n",
       "    </tr>\n",
       "    <tr>\n",
       "      <th>1</th>\n",
       "      <td>156565</td>\n",
       "      <td>[Дорожно-транспортные происшествия]</td>\n",
       "      <td>Светлое время суток</td>\n",
       "      <td>{'lat': None, 'long': None}</td>\n",
       "      <td>[]</td>\n",
       "      <td>Шимский район</td>\n",
       "      <td>600</td>\n",
       "      <td>Батецкий-Медведь, 10 км</td>\n",
       "      <td>[Ясно]</td>\n",
       "      <td>Опрокидывание</td>\n",
       "      <td>2015-06-11 16:10:00</td>\n",
       "      <td>Легкий</td>\n",
       "      <td>[{'year': 2011, 'brand': 'KIA', 'color': 'Сини...</td>\n",
       "      <td>0</td>\n",
       "      <td>[]</td>\n",
       "      <td>1</td>\n",
       "      <td>Новгородская область</td>\n",
       "      <td>[Сухое]</td>\n",
       "      <td>1</td>\n",
       "      <td>[Все участники]</td>\n",
       "      <td>{'type': 'Point', 'coordinates': [None, None]}</td>\n",
       "    </tr>\n",
       "    <tr>\n",
       "      <th>2</th>\n",
       "      <td>156274</td>\n",
       "      <td>[Дорожно-транспортные происшествия]</td>\n",
       "      <td>В темное время суток, освещение включено</td>\n",
       "      <td>{'lat': 58.295429, 'long': 30.494614}</td>\n",
       "      <td>[Жилые дома индивидуальной застройки, Нерегули...</td>\n",
       "      <td>Шимский район</td>\n",
       "      <td>840</td>\n",
       "      <td>д Старый Медведь, Медведь-Батецкий, 1 км</td>\n",
       "      <td>[Ясно]</td>\n",
       "      <td>Наезд на пешехода</td>\n",
       "      <td>2022-10-07 20:30:00</td>\n",
       "      <td>Тяжёлый</td>\n",
       "      <td>[{'year': 2009, 'brand': 'ВАЗ', 'color': 'Черн...</td>\n",
       "      <td>0</td>\n",
       "      <td>[{'role': 'Пешеход', 'gender': 'Мужской', 'vio...</td>\n",
       "      <td>1</td>\n",
       "      <td>Новгородская область</td>\n",
       "      <td>[Сухое]</td>\n",
       "      <td>2</td>\n",
       "      <td>[Все участники, Пешеходы]</td>\n",
       "      <td>{'type': 'Point', 'coordinates': [30.494614, 5...</td>\n",
       "    </tr>\n",
       "    <tr>\n",
       "      <th>3</th>\n",
       "      <td>156238</td>\n",
       "      <td>[Дорожно-транспортные происшествия]</td>\n",
       "      <td>В темное время суток, освещение включено</td>\n",
       "      <td>{'lat': 58.210136, 'long': 30.721529}</td>\n",
       "      <td>[Административные здания, Многоквартирные жилы...</td>\n",
       "      <td>Шимский район</td>\n",
       "      <td>740</td>\n",
       "      <td>рп Шимск, ул Новгородская, 6</td>\n",
       "      <td>[Пасмурно]</td>\n",
       "      <td>Наезд на пешехода</td>\n",
       "      <td>2022-12-06 17:05:00</td>\n",
       "      <td>Легкий</td>\n",
       "      <td>[{'year': 2009, 'brand': 'CHEVROLET', 'color':...</td>\n",
       "      <td>0</td>\n",
       "      <td>[{'role': 'Пешеход', 'gender': 'Женский', 'vio...</td>\n",
       "      <td>1</td>\n",
       "      <td>Новгородская область</td>\n",
       "      <td>[Сухое]</td>\n",
       "      <td>2</td>\n",
       "      <td>[Все участники, Пешеходы]</td>\n",
       "      <td>{'type': 'Point', 'coordinates': [30.721529, 5...</td>\n",
       "    </tr>\n",
       "    <tr>\n",
       "      <th>4</th>\n",
       "      <td>156240</td>\n",
       "      <td>[Дорожно-транспортные происшествия]</td>\n",
       "      <td>Светлое время суток</td>\n",
       "      <td>{'lat': 58.067255, 'long': 30.765452}</td>\n",
       "      <td>[]</td>\n",
       "      <td>Шимский район</td>\n",
       "      <td>610</td>\n",
       "      <td>Шимск-Волот, 14 км</td>\n",
       "      <td>[Снегопад]</td>\n",
       "      <td>Съезд с дороги</td>\n",
       "      <td>2021-11-27 15:00:00</td>\n",
       "      <td>Легкий</td>\n",
       "      <td>[{'year': 2010, 'brand': 'ПАЗ', 'color': 'Белы...</td>\n",
       "      <td>0</td>\n",
       "      <td>[]</td>\n",
       "      <td>1</td>\n",
       "      <td>Новгородская область</td>\n",
       "      <td>[Недостатки зимнего содержания, Заснеженное]</td>\n",
       "      <td>3</td>\n",
       "      <td>[Все участники]</td>\n",
       "      <td>{'type': 'Point', 'coordinates': [30.765452, 5...</td>\n",
       "    </tr>\n",
       "  </tbody>\n",
       "</table>\n",
       "</div>"
      ],
      "text/plain": [
       "        id                                 tags  \\\n",
       "0  1504730  [Дорожно-транспортные происшествия]   \n",
       "1   156565  [Дорожно-транспортные происшествия]   \n",
       "2   156274  [Дорожно-транспортные происшествия]   \n",
       "3   156238  [Дорожно-транспортные происшествия]   \n",
       "4   156240  [Дорожно-транспортные происшествия]   \n",
       "\n",
       "                                      light  \\\n",
       "0                       Светлое время суток   \n",
       "1                       Светлое время суток   \n",
       "2  В темное время суток, освещение включено   \n",
       "3  В темное время суток, освещение включено   \n",
       "4                       Светлое время суток   \n",
       "\n",
       "                                   point  \\\n",
       "0  {'lat': 58.332904, 'long': 30.415138}   \n",
       "1            {'lat': None, 'long': None}   \n",
       "2  {'lat': 58.295429, 'long': 30.494614}   \n",
       "3  {'lat': 58.210136, 'long': 30.721529}   \n",
       "4  {'lat': 58.067255, 'long': 30.765452}   \n",
       "\n",
       "                                              nearby         region scheme  \\\n",
       "0                                                 []  Шимский район    200   \n",
       "1                                                 []  Шимский район    600   \n",
       "2  [Жилые дома индивидуальной застройки, Нерегули...  Шимский район    840   \n",
       "3  [Административные здания, Многоквартирные жилы...  Шимский район    740   \n",
       "4                                                 []  Шимский район    610   \n",
       "\n",
       "                                    address     weather           category  \\\n",
       "0                    Медведь-Батецкий, 7 км      [Ясно]       Столкновение   \n",
       "1                   Батецкий-Медведь, 10 км      [Ясно]      Опрокидывание   \n",
       "2  д Старый Медведь, Медведь-Батецкий, 1 км      [Ясно]  Наезд на пешехода   \n",
       "3              рп Шимск, ул Новгородская, 6  [Пасмурно]  Наезд на пешехода   \n",
       "4                        Шимск-Волот, 14 км  [Снегопад]     Съезд с дороги   \n",
       "\n",
       "              datetime     severity  \\\n",
       "0  2025-05-01 12:55:00  С погибшими   \n",
       "1  2015-06-11 16:10:00       Легкий   \n",
       "2  2022-10-07 20:30:00      Тяжёлый   \n",
       "3  2022-12-06 17:05:00       Легкий   \n",
       "4  2021-11-27 15:00:00       Легкий   \n",
       "\n",
       "                                            vehicles  dead_count  \\\n",
       "0  [{'year': 2012, 'brand': 'KIA', 'color': 'Серы...           1   \n",
       "1  [{'year': 2011, 'brand': 'KIA', 'color': 'Сини...           0   \n",
       "2  [{'year': 2009, 'brand': 'ВАЗ', 'color': 'Черн...           0   \n",
       "3  [{'year': 2009, 'brand': 'CHEVROLET', 'color':...           0   \n",
       "4  [{'year': 2010, 'brand': 'ПАЗ', 'color': 'Белы...           0   \n",
       "\n",
       "                                        participants  injured_count  \\\n",
       "0                                                 []              0   \n",
       "1                                                 []              1   \n",
       "2  [{'role': 'Пешеход', 'gender': 'Мужской', 'vio...              1   \n",
       "3  [{'role': 'Пешеход', 'gender': 'Женский', 'vio...              1   \n",
       "4                                                 []              1   \n",
       "\n",
       "          parent_region                               road_conditions  \\\n",
       "0  Новгородская область                                       [Сухое]   \n",
       "1  Новгородская область                                       [Сухое]   \n",
       "2  Новгородская область                                       [Сухое]   \n",
       "3  Новгородская область                                       [Сухое]   \n",
       "4  Новгородская область  [Недостатки зимнего содержания, Заснеженное]   \n",
       "\n",
       "   participants_count         participant_categories  \\\n",
       "0                   3  [Все участники, Мотоциклисты]   \n",
       "1                   1                [Все участники]   \n",
       "2                   2      [Все участники, Пешеходы]   \n",
       "3                   2      [Все участники, Пешеходы]   \n",
       "4                   3                [Все участники]   \n",
       "\n",
       "                                            geometry  \n",
       "0  {'type': 'Point', 'coordinates': [30.415138, 5...  \n",
       "1     {'type': 'Point', 'coordinates': [None, None]}  \n",
       "2  {'type': 'Point', 'coordinates': [30.494614, 5...  \n",
       "3  {'type': 'Point', 'coordinates': [30.721529, 5...  \n",
       "4  {'type': 'Point', 'coordinates': [30.765452, 5...  "
      ]
     },
     "execution_count": 19,
     "metadata": {},
     "output_type": "execute_result"
    }
   ],
   "source": [
    "data.head(5)"
   ]
  },
  {
   "cell_type": "markdown",
   "id": "c797ac39-1dd0-465c-ac95-579a76f1814e",
   "metadata": {},
   "source": [
    "Посмотрим общую информацию о датасете:"
   ]
  },
  {
   "cell_type": "code",
   "execution_count": null,
   "id": "887e96c6-ffa3-4cdf-bb86-b1aa5f6bb17f",
   "metadata": {},
   "outputs": [],
   "source": [
    "data.info()"
   ]
  },
  {
   "cell_type": "code",
   "execution_count": null,
   "id": "4b319dfb-044f-43f0-8b91-3d6d610c0a43",
   "metadata": {},
   "outputs": [],
   "source": [
    "print(f'Исходный датасет содержит {data.shape[0]} записей и {data.shape[1]} признак(а/ов):')"
   ]
  },
  {
   "cell_type": "markdown",
   "id": "845806a4-eaeb-4076-9428-5969fb8baa96",
   "metadata": {},
   "source": [
    "* `id`: идентификатор\n",
    "* `light`: время суток\n",
    "* `point`: координаты (гео)\n",
    "* `nearby`: комментарий по месту происшествия (где произошло)\n",
    "* `region`: город/район\n",
    "* `address`: адрес\n",
    "* `weather`: погода\n",
    "* `category`: тип ДТП\n",
    "* `datetime`: дата и время происшествия\n",
    "* `severity`: тяжесть ДТП/вред здоровью\n",
    "* `vehicles`: участники – транспортные средства:\n",
    "    * `year`: год производства транспортного средства\n",
    "    * `brand`: марка транспортного средства\n",
    "    * `color`: цвет транспортного средства\n",
    "    * `model`: модель транспортного средства\n",
    "    * `category`: категория транспортного средства\n",
    "    * `role`: роль участника\n",
    "    * `gender`: пол участника\n",
    "    * `violations`: нарушения правил участником\n",
    "    * `health_status`: состояние здоровья участника\n",
    "    * `years_of_driving_experience`: стаж вождения участника (только у водителей)\n",
    "* `dead_count`: кол-во погибших в ДТП\n",
    "* `participants`: участники без транспортных средств (описание, как у участников внутри транспортных средств)\n",
    "* `injured_count`: кол-во раненых в ДТП\n",
    "* `parent_region`: родительский регион\n",
    "* `road_conditions`: состояние дорожного покрытия\n",
    "* `participants_count`: кол-во участников ДТП\n",
    "* `participant_categories`: категории участников"
   ]
  },
  {
   "cell_type": "markdown",
   "id": "48c5e546-8fdf-4525-ae4f-34a38f19a4b8",
   "metadata": {},
   "source": [
    "## 2. Предобработка данных"
   ]
  },
  {
   "cell_type": "markdown",
   "id": "8f208ab8-4f04-4c37-8b72-821e7a400253",
   "metadata": {},
   "source": [
    "Задачи данного раздела:\n",
    "\n",
    "* Привести типы данных в соответствие\n",
    "* Проверить пропуски в датасете и обработать их\n",
    "* Проверить наличие явных и неявных дубликатов и обработать их\n",
    "* По возможности дообогатить данные на основе имеющихся"
   ]
  },
  {
   "cell_type": "markdown",
   "id": "f0fb9679-834d-4f0d-a7bb-f8458a7763d5",
   "metadata": {},
   "source": [
    "### 2.1. Обработка пропусков данных"
   ]
  },
  {
   "cell_type": "markdown",
   "id": "3e10de1b-5b8d-41a8-b6bf-38c55f8f37be",
   "metadata": {},
   "source": [
    "Проверим наличие NAN и NULL в датасете:"
   ]
  },
  {
   "cell_type": "code",
   "execution_count": null,
   "id": "859cf9ce-faf8-42da-a978-ef760e6e95ae",
   "metadata": {},
   "outputs": [],
   "source": [
    "print(20*'==')\n",
    "print('NULLS')\n",
    "print(data.isnull().sum())\n",
    "print(20*'==')\n",
    "print('NANs')\n",
    "print(data.isna().sum())\n",
    "print(20*'==')"
   ]
  },
  {
   "cell_type": "markdown",
   "id": "00686f5a-4ac7-4578-a213-148fc399f399",
   "metadata": {},
   "source": [
    "Обнаружены пропуски в трех полях - `scheme` (данное поле не указано в описании данных), `address`, `geometry`.\n",
    "\n",
    "Проверим какие данные содержатся в поле `scheme`:"
   ]
  },
  {
   "cell_type": "code",
   "execution_count": null,
   "id": "c47a1552-6946-4461-89e8-db002a03c5d2",
   "metadata": {},
   "outputs": [],
   "source": [
    "data['scheme'].unique()"
   ]
  },
  {
   "cell_type": "markdown",
   "id": "68cb2235-80db-41ff-a406-49d873beb62f",
   "metadata": {},
   "source": [
    "Здесь в основном представлены трехзначные числа в формате строки. Заполним пропуски заглушкой \"unknown\""
   ]
  },
  {
   "cell_type": "code",
   "execution_count": null,
   "id": "af6eb0a0-33cb-4564-ad48-e815227d98cf",
   "metadata": {},
   "outputs": [],
   "source": [
    "data['scheme'] = data['scheme'].fillna('unknown')"
   ]
  },
  {
   "cell_type": "markdown",
   "id": "a8565388-54e8-4b17-b963-ba7b352e2164",
   "metadata": {},
   "source": [
    "Пропуски по полю `address` также заполним заглушкой:"
   ]
  },
  {
   "cell_type": "code",
   "execution_count": null,
   "id": "a326aefb-2b3a-439e-87d6-a3518f380b2f",
   "metadata": {},
   "outputs": [],
   "source": [
    "data['address'] = data['address'].fillna('unknown')"
   ]
  },
  {
   "cell_type": "markdown",
   "id": "1070f795-e689-4c98-85de-8aaddb58880c",
   "metadata": {},
   "source": [
    "### 2.2. Подготовка полей"
   ]
  },
  {
   "cell_type": "markdown",
   "id": "8005020b-208a-4716-be89-6e0d89c33ff2",
   "metadata": {},
   "source": [
    "#### 2.2.1 Преобразование списочных полей к текстовому типу"
   ]
  },
  {
   "cell_type": "markdown",
   "id": "f8d3ec3e-441d-4ba6-91f2-c62f76da93f8",
   "metadata": {},
   "source": [
    "В полях `tags`, `nearby`, `weather`, `vehicles`, `participants`, `road_conditions`, `participant_categories` содержатся списки, преобразуем данные поля к текстовому типу.\n",
    "\n",
    "Определим перечень полей для преобразования:"
   ]
  },
  {
   "cell_type": "code",
   "execution_count": null,
   "id": "8c052e82-1793-4e0b-a058-ac5ff51f3e39",
   "metadata": {},
   "outputs": [],
   "source": [
    "list_features = ['tags', 'nearby', 'weather', 'road_conditions', 'participant_categories']"
   ]
  },
  {
   "cell_type": "markdown",
   "id": "78df7c70-a3d7-467a-baf0-33fd982361af",
   "metadata": {},
   "source": [
    "Приведем поля к текстовому типу:"
   ]
  },
  {
   "cell_type": "code",
   "execution_count": 21,
   "id": "d9313da9-70cd-4243-ac3a-52e2a5126fe5",
   "metadata": {},
   "outputs": [],
   "source": [
    "for column in list_features:\n",
    "    data[column] = data[column].apply(lambda x: x[0] if len(x) == 1 else ', '.join(x) if isinstance(x, list) else '')"
   ]
  },
  {
   "cell_type": "markdown",
   "id": "271bd41e-84f2-40e5-b85f-5ba23b28e8a0",
   "metadata": {},
   "source": [
    "Проверим результат:"
   ]
  },
  {
   "cell_type": "code",
   "execution_count": 22,
   "id": "c0d6a496-8fec-4fa3-be08-4146d09eef83",
   "metadata": {},
   "outputs": [
    {
     "data": {
      "text/html": [
       "<div>\n",
       "<style scoped>\n",
       "    .dataframe tbody tr th:only-of-type {\n",
       "        vertical-align: middle;\n",
       "    }\n",
       "\n",
       "    .dataframe tbody tr th {\n",
       "        vertical-align: top;\n",
       "    }\n",
       "\n",
       "    .dataframe thead th {\n",
       "        text-align: right;\n",
       "    }\n",
       "</style>\n",
       "<table border=\"1\" class=\"dataframe\">\n",
       "  <thead>\n",
       "    <tr style=\"text-align: right;\">\n",
       "      <th></th>\n",
       "      <th>id</th>\n",
       "      <th>tags</th>\n",
       "      <th>light</th>\n",
       "      <th>point</th>\n",
       "      <th>nearby</th>\n",
       "      <th>region</th>\n",
       "      <th>scheme</th>\n",
       "      <th>address</th>\n",
       "      <th>weather</th>\n",
       "      <th>category</th>\n",
       "      <th>datetime</th>\n",
       "      <th>severity</th>\n",
       "      <th>vehicles</th>\n",
       "      <th>dead_count</th>\n",
       "      <th>participants</th>\n",
       "      <th>injured_count</th>\n",
       "      <th>parent_region</th>\n",
       "      <th>road_conditions</th>\n",
       "      <th>participants_count</th>\n",
       "      <th>participant_categories</th>\n",
       "      <th>geometry</th>\n",
       "    </tr>\n",
       "  </thead>\n",
       "  <tbody>\n",
       "    <tr>\n",
       "      <th>0</th>\n",
       "      <td>1504730</td>\n",
       "      <td>Дорожно-транспортные происшествия</td>\n",
       "      <td>Светлое время суток</td>\n",
       "      <td>{'lat': 58.332904, 'long': 30.415138}</td>\n",
       "      <td></td>\n",
       "      <td>Шимский район</td>\n",
       "      <td>200</td>\n",
       "      <td>Медведь-Батецкий, 7 км</td>\n",
       "      <td>Ясно</td>\n",
       "      <td>Столкновение</td>\n",
       "      <td>2025-05-01 12:55:00</td>\n",
       "      <td>С погибшими</td>\n",
       "      <td>[{'year': 2012, 'brand': 'KIA', 'color': 'Серы...</td>\n",
       "      <td>1</td>\n",
       "      <td>[]</td>\n",
       "      <td>0</td>\n",
       "      <td>Новгородская область</td>\n",
       "      <td>Сухое</td>\n",
       "      <td>3</td>\n",
       "      <td>Все участники, Мотоциклисты</td>\n",
       "      <td>{'type': 'Point', 'coordinates': [30.415138, 5...</td>\n",
       "    </tr>\n",
       "    <tr>\n",
       "      <th>1</th>\n",
       "      <td>156565</td>\n",
       "      <td>Дорожно-транспортные происшествия</td>\n",
       "      <td>Светлое время суток</td>\n",
       "      <td>{'lat': None, 'long': None}</td>\n",
       "      <td></td>\n",
       "      <td>Шимский район</td>\n",
       "      <td>600</td>\n",
       "      <td>Батецкий-Медведь, 10 км</td>\n",
       "      <td>Ясно</td>\n",
       "      <td>Опрокидывание</td>\n",
       "      <td>2015-06-11 16:10:00</td>\n",
       "      <td>Легкий</td>\n",
       "      <td>[{'year': 2011, 'brand': 'KIA', 'color': 'Сини...</td>\n",
       "      <td>0</td>\n",
       "      <td>[]</td>\n",
       "      <td>1</td>\n",
       "      <td>Новгородская область</td>\n",
       "      <td>Сухое</td>\n",
       "      <td>1</td>\n",
       "      <td>Все участники</td>\n",
       "      <td>{'type': 'Point', 'coordinates': [None, None]}</td>\n",
       "    </tr>\n",
       "    <tr>\n",
       "      <th>2</th>\n",
       "      <td>156274</td>\n",
       "      <td>Дорожно-транспортные происшествия</td>\n",
       "      <td>В темное время суток, освещение включено</td>\n",
       "      <td>{'lat': 58.295429, 'long': 30.494614}</td>\n",
       "      <td>Жилые дома индивидуальной застройки, Нерегулир...</td>\n",
       "      <td>Шимский район</td>\n",
       "      <td>840</td>\n",
       "      <td>д Старый Медведь, Медведь-Батецкий, 1 км</td>\n",
       "      <td>Ясно</td>\n",
       "      <td>Наезд на пешехода</td>\n",
       "      <td>2022-10-07 20:30:00</td>\n",
       "      <td>Тяжёлый</td>\n",
       "      <td>[{'year': 2009, 'brand': 'ВАЗ', 'color': 'Черн...</td>\n",
       "      <td>0</td>\n",
       "      <td>[{'role': 'Пешеход', 'gender': 'Мужской', 'vio...</td>\n",
       "      <td>1</td>\n",
       "      <td>Новгородская область</td>\n",
       "      <td>Сухое</td>\n",
       "      <td>2</td>\n",
       "      <td>Все участники, Пешеходы</td>\n",
       "      <td>{'type': 'Point', 'coordinates': [30.494614, 5...</td>\n",
       "    </tr>\n",
       "    <tr>\n",
       "      <th>3</th>\n",
       "      <td>156238</td>\n",
       "      <td>Дорожно-транспортные происшествия</td>\n",
       "      <td>В темное время суток, освещение включено</td>\n",
       "      <td>{'lat': 58.210136, 'long': 30.721529}</td>\n",
       "      <td>Административные здания, Многоквартирные жилые...</td>\n",
       "      <td>Шимский район</td>\n",
       "      <td>740</td>\n",
       "      <td>рп Шимск, ул Новгородская, 6</td>\n",
       "      <td>Пасмурно</td>\n",
       "      <td>Наезд на пешехода</td>\n",
       "      <td>2022-12-06 17:05:00</td>\n",
       "      <td>Легкий</td>\n",
       "      <td>[{'year': 2009, 'brand': 'CHEVROLET', 'color':...</td>\n",
       "      <td>0</td>\n",
       "      <td>[{'role': 'Пешеход', 'gender': 'Женский', 'vio...</td>\n",
       "      <td>1</td>\n",
       "      <td>Новгородская область</td>\n",
       "      <td>Сухое</td>\n",
       "      <td>2</td>\n",
       "      <td>Все участники, Пешеходы</td>\n",
       "      <td>{'type': 'Point', 'coordinates': [30.721529, 5...</td>\n",
       "    </tr>\n",
       "    <tr>\n",
       "      <th>4</th>\n",
       "      <td>156240</td>\n",
       "      <td>Дорожно-транспортные происшествия</td>\n",
       "      <td>Светлое время суток</td>\n",
       "      <td>{'lat': 58.067255, 'long': 30.765452}</td>\n",
       "      <td></td>\n",
       "      <td>Шимский район</td>\n",
       "      <td>610</td>\n",
       "      <td>Шимск-Волот, 14 км</td>\n",
       "      <td>Снегопад</td>\n",
       "      <td>Съезд с дороги</td>\n",
       "      <td>2021-11-27 15:00:00</td>\n",
       "      <td>Легкий</td>\n",
       "      <td>[{'year': 2010, 'brand': 'ПАЗ', 'color': 'Белы...</td>\n",
       "      <td>0</td>\n",
       "      <td>[]</td>\n",
       "      <td>1</td>\n",
       "      <td>Новгородская область</td>\n",
       "      <td>Недостатки зимнего содержания, Заснеженное</td>\n",
       "      <td>3</td>\n",
       "      <td>Все участники</td>\n",
       "      <td>{'type': 'Point', 'coordinates': [30.765452, 5...</td>\n",
       "    </tr>\n",
       "  </tbody>\n",
       "</table>\n",
       "</div>"
      ],
      "text/plain": [
       "        id                               tags  \\\n",
       "0  1504730  Дорожно-транспортные происшествия   \n",
       "1   156565  Дорожно-транспортные происшествия   \n",
       "2   156274  Дорожно-транспортные происшествия   \n",
       "3   156238  Дорожно-транспортные происшествия   \n",
       "4   156240  Дорожно-транспортные происшествия   \n",
       "\n",
       "                                      light  \\\n",
       "0                       Светлое время суток   \n",
       "1                       Светлое время суток   \n",
       "2  В темное время суток, освещение включено   \n",
       "3  В темное время суток, освещение включено   \n",
       "4                       Светлое время суток   \n",
       "\n",
       "                                   point  \\\n",
       "0  {'lat': 58.332904, 'long': 30.415138}   \n",
       "1            {'lat': None, 'long': None}   \n",
       "2  {'lat': 58.295429, 'long': 30.494614}   \n",
       "3  {'lat': 58.210136, 'long': 30.721529}   \n",
       "4  {'lat': 58.067255, 'long': 30.765452}   \n",
       "\n",
       "                                              nearby         region scheme  \\\n",
       "0                                                     Шимский район    200   \n",
       "1                                                     Шимский район    600   \n",
       "2  Жилые дома индивидуальной застройки, Нерегулир...  Шимский район    840   \n",
       "3  Административные здания, Многоквартирные жилые...  Шимский район    740   \n",
       "4                                                     Шимский район    610   \n",
       "\n",
       "                                    address   weather           category  \\\n",
       "0                    Медведь-Батецкий, 7 км      Ясно       Столкновение   \n",
       "1                   Батецкий-Медведь, 10 км      Ясно      Опрокидывание   \n",
       "2  д Старый Медведь, Медведь-Батецкий, 1 км      Ясно  Наезд на пешехода   \n",
       "3              рп Шимск, ул Новгородская, 6  Пасмурно  Наезд на пешехода   \n",
       "4                        Шимск-Волот, 14 км  Снегопад     Съезд с дороги   \n",
       "\n",
       "              datetime     severity  \\\n",
       "0  2025-05-01 12:55:00  С погибшими   \n",
       "1  2015-06-11 16:10:00       Легкий   \n",
       "2  2022-10-07 20:30:00      Тяжёлый   \n",
       "3  2022-12-06 17:05:00       Легкий   \n",
       "4  2021-11-27 15:00:00       Легкий   \n",
       "\n",
       "                                            vehicles  dead_count  \\\n",
       "0  [{'year': 2012, 'brand': 'KIA', 'color': 'Серы...           1   \n",
       "1  [{'year': 2011, 'brand': 'KIA', 'color': 'Сини...           0   \n",
       "2  [{'year': 2009, 'brand': 'ВАЗ', 'color': 'Черн...           0   \n",
       "3  [{'year': 2009, 'brand': 'CHEVROLET', 'color':...           0   \n",
       "4  [{'year': 2010, 'brand': 'ПАЗ', 'color': 'Белы...           0   \n",
       "\n",
       "                                        participants  injured_count  \\\n",
       "0                                                 []              0   \n",
       "1                                                 []              1   \n",
       "2  [{'role': 'Пешеход', 'gender': 'Мужской', 'vio...              1   \n",
       "3  [{'role': 'Пешеход', 'gender': 'Женский', 'vio...              1   \n",
       "4                                                 []              1   \n",
       "\n",
       "          parent_region                             road_conditions  \\\n",
       "0  Новгородская область                                       Сухое   \n",
       "1  Новгородская область                                       Сухое   \n",
       "2  Новгородская область                                       Сухое   \n",
       "3  Новгородская область                                       Сухое   \n",
       "4  Новгородская область  Недостатки зимнего содержания, Заснеженное   \n",
       "\n",
       "   participants_count       participant_categories  \\\n",
       "0                   3  Все участники, Мотоциклисты   \n",
       "1                   1                Все участники   \n",
       "2                   2      Все участники, Пешеходы   \n",
       "3                   2      Все участники, Пешеходы   \n",
       "4                   3                Все участники   \n",
       "\n",
       "                                            geometry  \n",
       "0  {'type': 'Point', 'coordinates': [30.415138, 5...  \n",
       "1     {'type': 'Point', 'coordinates': [None, None]}  \n",
       "2  {'type': 'Point', 'coordinates': [30.494614, 5...  \n",
       "3  {'type': 'Point', 'coordinates': [30.721529, 5...  \n",
       "4  {'type': 'Point', 'coordinates': [30.765452, 5...  "
      ]
     },
     "execution_count": 22,
     "metadata": {},
     "output_type": "execute_result"
    }
   ],
   "source": [
    "data.head()"
   ]
  },
  {
   "cell_type": "markdown",
   "id": "6ee71379-a5c4-4beb-b2ff-3f78a6f51d1e",
   "metadata": {},
   "source": [
    "Проверим уникальные значения по полю `tags`:"
   ]
  },
  {
   "cell_type": "code",
   "execution_count": 23,
   "id": "6c26772d-fb24-4e3d-a432-f45754c9a081",
   "metadata": {},
   "outputs": [
    {
     "data": {
      "text/plain": [
       "array(['Дорожно-транспортные происшествия'], dtype=object)"
      ]
     },
     "execution_count": 23,
     "metadata": {},
     "output_type": "execute_result"
    }
   ],
   "source": [
    "data['tags'].unique()"
   ]
  },
  {
   "cell_type": "code",
   "execution_count": null,
   "id": "84e1b54f-24bf-4e94-abb0-5400c646e537",
   "metadata": {},
   "outputs": [],
   "source": [
    "Данное поле не несет смысловой нагрузк"
   ]
  },
  {
   "cell_type": "code",
   "execution_count": null,
   "id": "a9a85023-be3f-4fe8-aea8-7b04cb58dcfc",
   "metadata": {},
   "outputs": [],
   "source": []
  },
  {
   "cell_type": "code",
   "execution_count": null,
   "id": "7fdcf55e-27eb-49e2-971f-9226d9a11781",
   "metadata": {},
   "outputs": [],
   "source": []
  },
  {
   "cell_type": "code",
   "execution_count": null,
   "id": "46ee61a1-43fb-4b2c-a9e2-d82e9cf6499d",
   "metadata": {},
   "outputs": [],
   "source": [
    "'', 'nearby', 'weather', 'road_conditions', 'participant_categories'"
   ]
  },
  {
   "cell_type": "code",
   "execution_count": null,
   "id": "0ca10883-bd93-470a-918f-70dd10c64f4c",
   "metadata": {},
   "outputs": [],
   "source": []
  },
  {
   "cell_type": "code",
   "execution_count": 21,
   "id": "b4719da9-be96-42a7-866d-7186fbc38d93",
   "metadata": {},
   "outputs": [
    {
     "data": {
      "text/plain": [
       "['id',\n",
       " 'tags',\n",
       " 'light',\n",
       " 'point',\n",
       " 'nearby',\n",
       " 'region',\n",
       " 'scheme',\n",
       " 'address',\n",
       " 'weather',\n",
       " 'category',\n",
       " 'datetime',\n",
       " 'severity',\n",
       " 'vehicles',\n",
       " 'dead_count',\n",
       " 'participants',\n",
       " 'injured_count',\n",
       " 'parent_region',\n",
       " 'road_conditions',\n",
       " 'participants_count',\n",
       " 'participant_categories',\n",
       " 'geometry']"
      ]
     },
     "execution_count": 21,
     "metadata": {},
     "output_type": "execute_result"
    }
   ],
   "source": [
    "data.columns.tolist()"
   ]
  },
  {
   "cell_type": "code",
   "execution_count": null,
   "id": "45c4d102-2fea-4a57-a7c0-398094cebf53",
   "metadata": {},
   "outputs": [],
   "source": []
  },
  {
   "cell_type": "markdown",
   "id": "e9d1b1b3-c346-47ca-8878-321a9d1d5b81",
   "metadata": {},
   "source": [
    "### 2.3. Обработка дубликатов"
   ]
  },
  {
   "cell_type": "markdown",
   "id": "f4630a30-f171-410c-908a-697a7460e697",
   "metadata": {},
   "source": [
    "Проверим количество дубликатов в датасете:"
   ]
  },
  {
   "cell_type": "code",
   "execution_count": 20,
   "id": "4542c7ee-97f6-470d-91b7-89c6f2e5b764",
   "metadata": {},
   "outputs": [
    {
     "name": "stdout",
     "output_type": "stream",
     "text": [
      "id                         int64\n",
      "tags                      object\n",
      "light                     object\n",
      "point                     object\n",
      "nearby                    object\n",
      "region                    object\n",
      "scheme                    object\n",
      "address                   object\n",
      "weather                   object\n",
      "category                  object\n",
      "datetime                  object\n",
      "severity                  object\n",
      "vehicles                  object\n",
      "dead_count                 int64\n",
      "participants              object\n",
      "injured_count              int64\n",
      "parent_region             object\n",
      "road_conditions           object\n",
      "participants_count         int64\n",
      "participant_categories    object\n",
      "geometry                  object\n",
      "dtype: object\n"
     ]
    }
   ],
   "source": [
    "print(data.dtypes)"
   ]
  },
  {
   "cell_type": "code",
   "execution_count": 19,
   "id": "03f1742b-96d0-499b-812d-54266ae25b38",
   "metadata": {},
   "outputs": [
    {
     "ename": "TypeError",
     "evalue": "unhashable type: 'list'",
     "output_type": "error",
     "traceback": [
      "\u001b[0;31m---------------------------------------------------------------------------\u001b[0m",
      "\u001b[0;31mTypeError\u001b[0m                                 Traceback (most recent call last)",
      "Cell \u001b[0;32mIn[19], line 1\u001b[0m\n\u001b[0;32m----> 1\u001b[0m data\u001b[38;5;241m.\u001b[39mduplicated()\u001b[38;5;241m.\u001b[39msum()\n",
      "File \u001b[0;32m/opt/anaconda3/lib/python3.13/site-packages/pandas/core/frame.py:6958\u001b[0m, in \u001b[0;36mDataFrame.duplicated\u001b[0;34m(self, subset, keep)\u001b[0m\n\u001b[1;32m   6956\u001b[0m \u001b[38;5;28;01melse\u001b[39;00m:\n\u001b[1;32m   6957\u001b[0m     vals \u001b[38;5;241m=\u001b[39m (col\u001b[38;5;241m.\u001b[39mvalues \u001b[38;5;28;01mfor\u001b[39;00m name, col \u001b[38;5;129;01min\u001b[39;00m \u001b[38;5;28mself\u001b[39m\u001b[38;5;241m.\u001b[39mitems() \u001b[38;5;28;01mif\u001b[39;00m name \u001b[38;5;129;01min\u001b[39;00m subset)\n\u001b[0;32m-> 6958\u001b[0m     labels, shape \u001b[38;5;241m=\u001b[39m \u001b[38;5;28mmap\u001b[39m(\u001b[38;5;28mlist\u001b[39m, \u001b[38;5;28mzip\u001b[39m(\u001b[38;5;241m*\u001b[39m\u001b[38;5;28mmap\u001b[39m(f, vals)))\n\u001b[1;32m   6960\u001b[0m     ids \u001b[38;5;241m=\u001b[39m get_group_index(labels, \u001b[38;5;28mtuple\u001b[39m(shape), sort\u001b[38;5;241m=\u001b[39m\u001b[38;5;28;01mFalse\u001b[39;00m, xnull\u001b[38;5;241m=\u001b[39m\u001b[38;5;28;01mFalse\u001b[39;00m)\n\u001b[1;32m   6961\u001b[0m     result \u001b[38;5;241m=\u001b[39m \u001b[38;5;28mself\u001b[39m\u001b[38;5;241m.\u001b[39m_constructor_sliced(duplicated(ids, keep), index\u001b[38;5;241m=\u001b[39m\u001b[38;5;28mself\u001b[39m\u001b[38;5;241m.\u001b[39mindex)\n",
      "File \u001b[0;32m/opt/anaconda3/lib/python3.13/site-packages/pandas/core/frame.py:6926\u001b[0m, in \u001b[0;36mDataFrame.duplicated.<locals>.f\u001b[0;34m(vals)\u001b[0m\n\u001b[1;32m   6925\u001b[0m \u001b[38;5;28;01mdef\u001b[39;00m\u001b[38;5;250m \u001b[39m\u001b[38;5;21mf\u001b[39m(vals) \u001b[38;5;241m-\u001b[39m\u001b[38;5;241m>\u001b[39m \u001b[38;5;28mtuple\u001b[39m[np\u001b[38;5;241m.\u001b[39mndarray, \u001b[38;5;28mint\u001b[39m]:\n\u001b[0;32m-> 6926\u001b[0m     labels, shape \u001b[38;5;241m=\u001b[39m algorithms\u001b[38;5;241m.\u001b[39mfactorize(vals, size_hint\u001b[38;5;241m=\u001b[39m\u001b[38;5;28mlen\u001b[39m(\u001b[38;5;28mself\u001b[39m))\n\u001b[1;32m   6927\u001b[0m     \u001b[38;5;28;01mreturn\u001b[39;00m labels\u001b[38;5;241m.\u001b[39mastype(\u001b[38;5;124m\"\u001b[39m\u001b[38;5;124mi8\u001b[39m\u001b[38;5;124m\"\u001b[39m, copy\u001b[38;5;241m=\u001b[39m\u001b[38;5;28;01mFalse\u001b[39;00m), \u001b[38;5;28mlen\u001b[39m(shape)\n",
      "File \u001b[0;32m/opt/anaconda3/lib/python3.13/site-packages/pandas/core/algorithms.py:795\u001b[0m, in \u001b[0;36mfactorize\u001b[0;34m(values, sort, use_na_sentinel, size_hint)\u001b[0m\n\u001b[1;32m    792\u001b[0m             \u001b[38;5;66;03m# Don't modify (potentially user-provided) array\u001b[39;00m\n\u001b[1;32m    793\u001b[0m             values \u001b[38;5;241m=\u001b[39m np\u001b[38;5;241m.\u001b[39mwhere(null_mask, na_value, values)\n\u001b[0;32m--> 795\u001b[0m     codes, uniques \u001b[38;5;241m=\u001b[39m factorize_array(\n\u001b[1;32m    796\u001b[0m         values,\n\u001b[1;32m    797\u001b[0m         use_na_sentinel\u001b[38;5;241m=\u001b[39muse_na_sentinel,\n\u001b[1;32m    798\u001b[0m         size_hint\u001b[38;5;241m=\u001b[39msize_hint,\n\u001b[1;32m    799\u001b[0m     )\n\u001b[1;32m    801\u001b[0m \u001b[38;5;28;01mif\u001b[39;00m sort \u001b[38;5;129;01mand\u001b[39;00m \u001b[38;5;28mlen\u001b[39m(uniques) \u001b[38;5;241m>\u001b[39m \u001b[38;5;241m0\u001b[39m:\n\u001b[1;32m    802\u001b[0m     uniques, codes \u001b[38;5;241m=\u001b[39m safe_sort(\n\u001b[1;32m    803\u001b[0m         uniques,\n\u001b[1;32m    804\u001b[0m         codes,\n\u001b[0;32m   (...)\u001b[0m\n\u001b[1;32m    807\u001b[0m         verify\u001b[38;5;241m=\u001b[39m\u001b[38;5;28;01mFalse\u001b[39;00m,\n\u001b[1;32m    808\u001b[0m     )\n",
      "File \u001b[0;32m/opt/anaconda3/lib/python3.13/site-packages/pandas/core/algorithms.py:595\u001b[0m, in \u001b[0;36mfactorize_array\u001b[0;34m(values, use_na_sentinel, size_hint, na_value, mask)\u001b[0m\n\u001b[1;32m    592\u001b[0m hash_klass, values \u001b[38;5;241m=\u001b[39m _get_hashtable_algo(values)\n\u001b[1;32m    594\u001b[0m table \u001b[38;5;241m=\u001b[39m hash_klass(size_hint \u001b[38;5;129;01mor\u001b[39;00m \u001b[38;5;28mlen\u001b[39m(values))\n\u001b[0;32m--> 595\u001b[0m uniques, codes \u001b[38;5;241m=\u001b[39m table\u001b[38;5;241m.\u001b[39mfactorize(\n\u001b[1;32m    596\u001b[0m     values,\n\u001b[1;32m    597\u001b[0m     na_sentinel\u001b[38;5;241m=\u001b[39m\u001b[38;5;241m-\u001b[39m\u001b[38;5;241m1\u001b[39m,\n\u001b[1;32m    598\u001b[0m     na_value\u001b[38;5;241m=\u001b[39mna_value,\n\u001b[1;32m    599\u001b[0m     mask\u001b[38;5;241m=\u001b[39mmask,\n\u001b[1;32m    600\u001b[0m     ignore_na\u001b[38;5;241m=\u001b[39muse_na_sentinel,\n\u001b[1;32m    601\u001b[0m )\n\u001b[1;32m    603\u001b[0m \u001b[38;5;66;03m# re-cast e.g. i8->dt64/td64, uint8->bool\u001b[39;00m\n\u001b[1;32m    604\u001b[0m uniques \u001b[38;5;241m=\u001b[39m _reconstruct_data(uniques, original\u001b[38;5;241m.\u001b[39mdtype, original)\n",
      "File \u001b[0;32mpandas/_libs/hashtable_class_helper.pxi:7281\u001b[0m, in \u001b[0;36mpandas._libs.hashtable.PyObjectHashTable.factorize\u001b[0;34m()\u001b[0m\n",
      "File \u001b[0;32mpandas/_libs/hashtable_class_helper.pxi:7195\u001b[0m, in \u001b[0;36mpandas._libs.hashtable.PyObjectHashTable._unique\u001b[0;34m()\u001b[0m\n",
      "\u001b[0;31mTypeError\u001b[0m: unhashable type: 'list'"
     ]
    }
   ],
   "source": [
    "data.duplicated().sum()"
   ]
  },
  {
   "cell_type": "markdown",
   "id": "595a65c0-82ea-4a70-8807-4e1b5df1d765",
   "metadata": {},
   "source": [
    "Явных дубликатов не обнаружено."
   ]
  },
  {
   "cell_type": "markdown",
   "id": "67f0e2c3-5825-4f17-b23e-c905f3175b6a",
   "metadata": {},
   "source": [
    "Проверим наличие неявных дубликатов по категорийным полям.\n",
    "\n",
    "Проверим уникальные значения по полю `light`:"
   ]
  },
  {
   "cell_type": "code",
   "execution_count": 21,
   "id": "4e0319af-e7d2-4f1e-86ff-2bb1226652db",
   "metadata": {},
   "outputs": [
    {
     "data": {
      "text/plain": [
       "['В темное время суток, освещение включено',\n",
       " 'Светлое время суток',\n",
       " 'В темное время суток, освещение отсутствует',\n",
       " 'Сумерки',\n",
       " 'В темное время суток, освещение не включено',\n",
       " 'Не установлено']"
      ]
     },
     "execution_count": 21,
     "metadata": {},
     "output_type": "execute_result"
    }
   ],
   "source": [
    "data['light'].unique().tolist()"
   ]
  },
  {
   "cell_type": "markdown",
   "id": "012e170b-a26f-4c1d-a50c-3775381d861e",
   "metadata": {},
   "source": [
    "Неявных дубликатов по полю `light` не обнаружено."
   ]
  },
  {
   "cell_type": "markdown",
   "id": "24dc409c-2741-4079-9544-cc80e1a4e0e2",
   "metadata": {},
   "source": [
    "### 2.3. Дообогащение данных"
   ]
  },
  {
   "cell_type": "markdown",
   "id": "6d4ac76e-af54-4eda-bf79-d74b6fceee6a",
   "metadata": {},
   "source": [
    "#### 2.3.1. Добавление координат ДТП, соответствующим формату данных DataLens"
   ]
  },
  {
   "cell_type": "markdown",
   "id": "90cd985e-45ed-4944-87ae-0ef3b40453f3",
   "metadata": {},
   "source": [
    "Для построения геоточек на картах в DataLens необходимы данные в формате '[55.75222,37.61556]', где первое число - широта, вторая долгота.\n",
    "\n",
    "Получим сначала отдельно координаты широты и долготы:"
   ]
  },
  {
   "cell_type": "code",
   "execution_count": 57,
   "id": "dda52705-f6a6-4ff2-81ea-ff3bb2392e91",
   "metadata": {},
   "outputs": [],
   "source": [
    "data['longitude'] = data['geometry'].geometry.x\n",
    "data['latitude'] = data['geometry'].geometry.y"
   ]
  },
  {
   "cell_type": "code",
   "execution_count": 59,
   "id": "b855351e-c389-496e-8195-9ead71a21814",
   "metadata": {},
   "outputs": [],
   "source": [
    "data.to_csv('krsk.csv')"
   ]
  },
  {
   "cell_type": "code",
   "execution_count": null,
   "id": "e1b455a2-0f12-479d-88f7-36c3d343c8b7",
   "metadata": {},
   "outputs": [],
   "source": []
  }
 ],
 "metadata": {
  "kernelspec": {
   "display_name": "Python [conda env:base] *",
   "language": "python",
   "name": "conda-base-py"
  },
  "language_info": {
   "codemirror_mode": {
    "name": "ipython",
    "version": 3
   },
   "file_extension": ".py",
   "mimetype": "text/x-python",
   "name": "python",
   "nbconvert_exporter": "python",
   "pygments_lexer": "ipython3",
   "version": "3.13.5"
  }
 },
 "nbformat": 4,
 "nbformat_minor": 5
}
