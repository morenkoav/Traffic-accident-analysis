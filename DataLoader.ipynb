{
 "cells": [
  {
   "cell_type": "markdown",
   "id": "df916739-7d41-4d12-b7a0-04b0e6cb0037",
   "metadata": {},
   "source": [
    "# Загрузка данных с сайта \"Карта ДТП\"\n",
    "\n",
    "Данный скрипт выгружает архивы датасетов с сайта [\"Карта ДТП\"](https://dtp-stat.ru/opendata), а затем распаковывает их."
   ]
  },
  {
   "cell_type": "markdown",
   "id": "364730bc-6c71-4a8f-b7b2-074d091cacb4",
   "metadata": {},
   "source": [
    "## 1. Загрузка библиотек"
   ]
  },
  {
   "cell_type": "code",
   "execution_count": 11,
   "id": "659d06f9-7de3-4b3a-9d7c-7f37309784df",
   "metadata": {},
   "outputs": [],
   "source": [
    "import requests\n",
    "from bs4 import BeautifulSoup\n",
    "import os\n",
    "import zipfile"
   ]
  },
  {
   "cell_type": "markdown",
   "id": "5c7e96a9-dcd0-4df4-b1cf-e57979f4d48d",
   "metadata": {},
   "source": [
    "## 2. Скачивание архивов с сайта"
   ]
  },
  {
   "cell_type": "markdown",
   "id": "1d53ee07-22f1-406e-880c-afa28c18228d",
   "metadata": {},
   "source": [
    "URL страницы с данными:"
   ]
  },
  {
   "cell_type": "code",
   "execution_count": null,
   "id": "7b0bbd92-6fde-480a-b9f4-4fa5d84c4be2",
   "metadata": {},
   "outputs": [],
   "source": [
    "url = 'https://dtp-stat.ru/opendata'"
   ]
  },
  {
   "cell_type": "markdown",
   "id": "322cba8e-19b5-427b-9c8b-7ece616bf69c",
   "metadata": {},
   "source": [
    "Создаем папку для сохранения файлов, если она не существует:"
   ]
  },
  {
   "cell_type": "code",
   "execution_count": null,
   "id": "bc26aaf5-ae96-4d77-aac2-91ebd2e63c13",
   "metadata": {},
   "outputs": [],
   "source": [
    "os.makedirs('geojson_files_zip', exist_ok=True)"
   ]
  },
  {
   "cell_type": "markdown",
   "id": "cd58a86e-9391-45b3-a4ff-44c3f34081db",
   "metadata": {},
   "source": [
    "Получаем содержимое страницы:"
   ]
  },
  {
   "cell_type": "code",
   "execution_count": null,
   "id": "c2900d2f-99cf-4dfe-a0e5-86988522b0ab",
   "metadata": {},
   "outputs": [],
   "source": [
    "response = requests.get(url)\n",
    "soup = BeautifulSoup(response.text, 'html.parser')"
   ]
  },
  {
   "cell_type": "markdown",
   "id": "e0a9ffc2-cf37-42e7-941c-42440f878ed7",
   "metadata": {},
   "source": [
    "Находим все ссылки на файлы ZIP и скачиваем эти файлы:"
   ]
  },
  {
   "cell_type": "code",
   "execution_count": 10,
   "id": "6d06e8a0-d26b-4785-ab13-dd6d7ecadf81",
   "metadata": {
    "scrolled": true
   },
   "outputs": [
    {
     "name": "stdout",
     "output_type": "stream",
     "text": [
      "Скачиваем https://cms.dtp-stat.ru/media/opendata/amurskaia-oblast.geojson.zip\n",
      "Скачиваем https://cms.dtp-stat.ru/media/opendata/arkhangelskaia-oblast.geojson.zip\n",
      "Скачиваем https://cms.dtp-stat.ru/media/opendata/astrakhanskaia-oblast.geojson.zip\n",
      "Скачиваем https://cms.dtp-stat.ru/media/opendata/belgorodskaia-oblast.geojson.zip\n",
      "Скачиваем https://cms.dtp-stat.ru/media/opendata/brianskaia-oblast.geojson.zip\n",
      "Скачиваем https://cms.dtp-stat.ru/media/opendata/vladimirskaia-oblast.geojson.zip\n",
      "Скачиваем https://cms.dtp-stat.ru/media/opendata/volgogradskaia-oblast.geojson.zip\n",
      "Скачиваем https://cms.dtp-stat.ru/media/opendata/vologodskaia-oblast.geojson.zip\n",
      "Скачиваем https://cms.dtp-stat.ru/media/opendata/voronezhskaia-oblast.geojson.zip\n",
      "Скачиваем https://cms.dtp-stat.ru/media/opendata/evreiskaia-avtonomnaia-oblast.geojson.zip\n",
      "Скачиваем https://cms.dtp-stat.ru/media/opendata/zabaikalskii-krai.geojson.zip\n",
      "Скачиваем https://cms.dtp-stat.ru/media/opendata/ivanovskaia-oblast.geojson.zip\n",
      "Скачиваем https://cms.dtp-stat.ru/media/opendata/irkutskaia-oblast.geojson.zip\n",
      "Скачиваем https://cms.dtp-stat.ru/media/opendata/kabardino-balkarskaia-respublika.geojson.zip\n",
      "Скачиваем https://cms.dtp-stat.ru/media/opendata/kaliningradskaia-oblast.geojson.zip\n",
      "Скачиваем https://cms.dtp-stat.ru/media/opendata/kaluzhskaia-oblast.geojson.zip\n",
      "Скачиваем https://cms.dtp-stat.ru/media/opendata/kamchatskii-krai.geojson.zip\n",
      "Скачиваем https://cms.dtp-stat.ru/media/opendata/karachaevo-cherkesskaia-respublika.geojson.zip\n",
      "Скачиваем https://cms.dtp-stat.ru/media/opendata/kemerovskaia-oblast-kuzbass.geojson.zip\n",
      "Скачиваем https://cms.dtp-stat.ru/media/opendata/kirovskaia-oblast.geojson.zip\n",
      "Скачиваем https://cms.dtp-stat.ru/media/opendata/kostromskaia-oblast.geojson.zip\n",
      "Скачиваем https://cms.dtp-stat.ru/media/opendata/krasnodarskii-krai.geojson.zip\n",
      "Скачиваем https://cms.dtp-stat.ru/media/opendata/krasnoiarskii-krai.geojson.zip\n",
      "Скачиваем https://cms.dtp-stat.ru/media/opendata/kurganskaia-oblast.geojson.zip\n",
      "Скачиваем https://cms.dtp-stat.ru/media/opendata/kurskaia-oblast.geojson.zip\n",
      "Скачиваем https://cms.dtp-stat.ru/media/opendata/leningradskaia-oblast.geojson.zip\n",
      "Скачиваем https://cms.dtp-stat.ru/media/opendata/lipetskaia-oblast.geojson.zip\n",
      "Скачиваем https://cms.dtp-stat.ru/media/opendata/magadanskaia-oblast.geojson.zip\n",
      "Скачиваем https://cms.dtp-stat.ru/media/opendata/moskva.geojson.zip\n",
      "Скачиваем https://cms.dtp-stat.ru/media/opendata/moskovskaia-oblast.geojson.zip\n",
      "Скачиваем https://cms.dtp-stat.ru/media/opendata/murmanskaia-oblast.geojson.zip\n",
      "Скачиваем https://cms.dtp-stat.ru/media/opendata/nenetskii-avtonomnyi-okrug.geojson.zip\n",
      "Скачиваем https://cms.dtp-stat.ru/media/opendata/novgorodskaia-oblast.geojson.zip\n",
      "Скачиваем https://cms.dtp-stat.ru/media/opendata/omskaia-oblast.geojson.zip\n",
      "Скачиваем https://cms.dtp-stat.ru/media/opendata/orenburgskaia-oblast.geojson.zip\n",
      "Скачиваем https://cms.dtp-stat.ru/media/opendata/orlovskaia-oblast.geojson.zip\n",
      "Скачиваем https://cms.dtp-stat.ru/media/opendata/penzenskaia-oblast.geojson.zip\n",
      "Скачиваем https://cms.dtp-stat.ru/media/opendata/permskii-krai.geojson.zip\n",
      "Скачиваем https://cms.dtp-stat.ru/media/opendata/primorskii-krai.geojson.zip\n",
      "Скачиваем https://cms.dtp-stat.ru/media/opendata/pskovskaia-oblast.geojson.zip\n",
      "Скачиваем https://cms.dtp-stat.ru/media/opendata/respublika-adygeia-adygeia.geojson.zip\n",
      "Скачиваем https://cms.dtp-stat.ru/media/opendata/respublika-altai.geojson.zip\n",
      "Скачиваем https://cms.dtp-stat.ru/media/opendata/respublika-bashkortostan.geojson.zip\n",
      "Скачиваем https://cms.dtp-stat.ru/media/opendata/respublika-buriatiia.geojson.zip\n",
      "Скачиваем https://cms.dtp-stat.ru/media/opendata/respublika-dagestan.geojson.zip\n",
      "Скачиваем https://cms.dtp-stat.ru/media/opendata/respublika-ingushetiia.geojson.zip\n",
      "Скачиваем https://cms.dtp-stat.ru/media/opendata/respublika-kalmykiia.geojson.zip\n",
      "Скачиваем https://cms.dtp-stat.ru/media/opendata/respublika-kareliia.geojson.zip\n",
      "Скачиваем https://cms.dtp-stat.ru/media/opendata/respublika-komi.geojson.zip\n",
      "Скачиваем https://cms.dtp-stat.ru/media/opendata/respublika-krym.geojson.zip\n",
      "Скачиваем https://cms.dtp-stat.ru/media/opendata/respublika-marii-el.geojson.zip\n",
      "Скачиваем https://cms.dtp-stat.ru/media/opendata/respublika-mordoviia.geojson.zip\n",
      "Скачиваем https://cms.dtp-stat.ru/media/opendata/respublika-sakha-iakutiia.geojson.zip\n",
      "Скачиваем https://cms.dtp-stat.ru/media/opendata/respublika-severnaia-osetiia-alaniia.geojson.zip\n",
      "Скачиваем https://cms.dtp-stat.ru/media/opendata/respublika-tatarstan-tatarstan.geojson.zip\n",
      "Скачиваем https://cms.dtp-stat.ru/media/opendata/respublika-tyva.geojson.zip\n",
      "Скачиваем https://cms.dtp-stat.ru/media/opendata/respublika-khakasiia.geojson.zip\n",
      "Скачиваем https://cms.dtp-stat.ru/media/opendata/riazanskaia-oblast.geojson.zip\n",
      "Скачиваем https://cms.dtp-stat.ru/media/opendata/samarskaia-oblast.geojson.zip\n",
      "Скачиваем https://cms.dtp-stat.ru/media/opendata/sankt-peterburg.geojson.zip\n",
      "Скачиваем https://cms.dtp-stat.ru/media/opendata/saratovskaia-oblast.geojson.zip\n",
      "Скачиваем https://cms.dtp-stat.ru/media/opendata/sakhalinskaia-oblast.geojson.zip\n",
      "Скачиваем https://cms.dtp-stat.ru/media/opendata/sverdlovskaia-oblast.geojson.zip\n",
      "Скачиваем https://cms.dtp-stat.ru/media/opendata/sevastopol.geojson.zip\n",
      "Скачиваем https://cms.dtp-stat.ru/media/opendata/smolenskaia-oblast.geojson.zip\n",
      "Скачиваем https://cms.dtp-stat.ru/media/opendata/stavropolskii-krai.geojson.zip\n",
      "Скачиваем https://cms.dtp-stat.ru/media/opendata/tambovskaia-oblast.geojson.zip\n",
      "Скачиваем https://cms.dtp-stat.ru/media/opendata/tverskaia-oblast.geojson.zip\n",
      "Скачиваем https://cms.dtp-stat.ru/media/opendata/tomskaia-oblast.geojson.zip\n",
      "Скачиваем https://cms.dtp-stat.ru/media/opendata/tulskaia-oblast.geojson.zip\n",
      "Скачиваем https://cms.dtp-stat.ru/media/opendata/tiumenskaia-oblast.geojson.zip\n",
      "Скачиваем https://cms.dtp-stat.ru/media/opendata/udmurtskaia-respublika.geojson.zip\n",
      "Скачиваем https://cms.dtp-stat.ru/media/opendata/ulianovskaia-oblast.geojson.zip\n",
      "Скачиваем https://cms.dtp-stat.ru/media/opendata/khabarovskii-krai.geojson.zip\n",
      "Скачиваем https://cms.dtp-stat.ru/media/opendata/khanty-mansiiskii-avtonomnyi-okrug-iugra.geojson.zip\n",
      "Скачиваем https://cms.dtp-stat.ru/media/opendata/cheliabinskaia-oblast.geojson.zip\n",
      "Скачиваем https://cms.dtp-stat.ru/media/opendata/chechenskaia-respublika.geojson.zip\n",
      "Скачиваем https://cms.dtp-stat.ru/media/opendata/chuvashskaia-respublika-chuvashiia.geojson.zip\n",
      "Скачиваем https://cms.dtp-stat.ru/media/opendata/chukotskii-avtonomnyi-okrug.geojson.zip\n",
      "Скачиваем https://cms.dtp-stat.ru/media/opendata/iamalo-nenetskii-avtonomnyi-okrug.geojson.zip\n",
      "Скачиваем https://cms.dtp-stat.ru/media/opendata/iaroslavskaia-oblast.geojson.zip\n",
      "Скачивание завершено.\n"
     ]
    }
   ],
   "source": [
    "for link in soup.find_all('a', href=True):\n",
    "    href = link['href']\n",
    "    if href.endswith('.zip'):\n",
    "        # Полный URL файла\n",
    "        file_url = href if href.startswith('http') else f'https://dtp-stat.ru{href}'\n",
    "        \n",
    "        # Скачиваем файл\n",
    "        print(f'Скачиваем {file_url}')\n",
    "        file_response = requests.get(file_url)\n",
    "        \n",
    "        # Сохраняем файл\n",
    "        file_name = os.path.join('geojson_files_zip', os.path.basename(href))\n",
    "        with open(file_name, 'wb') as f:\n",
    "            f.write(file_response.content)\n",
    "\n",
    "print('Скачивание завершено.')"
   ]
  },
  {
   "cell_type": "markdown",
   "id": "085f2ca9-b520-416c-805f-55853e06782e",
   "metadata": {},
   "source": [
    "## 3. Распаковка архивов"
   ]
  },
  {
   "cell_type": "markdown",
   "id": "aea540e6-2f61-46a0-98d1-1fe98592a9ac",
   "metadata": {},
   "source": [
    "Путь к папке, содержащей ZIP-файлы:"
   ]
  },
  {
   "cell_type": "code",
   "execution_count": null,
   "id": "6bffa312-ffc3-4244-b97c-5a0f2fe97d96",
   "metadata": {},
   "outputs": [],
   "source": [
    "zip_folder = 'geojson_files_zip'"
   ]
  },
  {
   "cell_type": "markdown",
   "id": "7f1463e7-a649-4bb7-849b-f64566fb447d",
   "metadata": {},
   "source": [
    "Путь к папке, куда будут распакованы файлы:"
   ]
  },
  {
   "cell_type": "code",
   "execution_count": null,
   "id": "375f2725-6fbc-4aae-a402-6dfca824df3d",
   "metadata": {},
   "outputs": [],
   "source": [
    "output_folder = 'geojson_files'"
   ]
  },
  {
   "cell_type": "markdown",
   "id": "15be8f58-bfd0-4c5c-ad75-a68b637af341",
   "metadata": {},
   "source": [
    "Создаем папку для распаковки, если она не существует:"
   ]
  },
  {
   "cell_type": "code",
   "execution_count": null,
   "id": "3d871e65-f99a-4abd-a9c5-8eecfab58f48",
   "metadata": {},
   "outputs": [],
   "source": [
    "os.makedirs(output_folder, exist_ok=True)"
   ]
  },
  {
   "cell_type": "markdown",
   "id": "d805481e-43e5-44f1-b6e4-f88bb9d23b42",
   "metadata": {},
   "source": [
    "Распаковываем все заархивированные файлы:"
   ]
  },
  {
   "cell_type": "code",
   "execution_count": null,
   "id": "94b30a12-58ba-4307-aa3a-938c3a54f6c3",
   "metadata": {},
   "outputs": [],
   "source": [
    "for filename in os.listdir(zip_folder):\n",
    "    if filename.endswith('.zip'):\n",
    "        zip_path = os.path.join(zip_folder, filename)\n",
    "        print(f'Распаковываем {zip_path}...')\n",
    "        \n",
    "        # Открываем ZIP-файл и распаковываем его содержимое\n",
    "        with zipfile.ZipFile(zip_path, 'r') as zip_ref:\n",
    "            zip_ref.extractall(output_folder)\n",
    "\n",
    "print('Распаковка завершена.')"
   ]
  },
  {
   "cell_type": "markdown",
   "id": "45063f31-190a-4782-b56b-00eb09c4faa2",
   "metadata": {},
   "source": [
    "Удаляем папку с архивами для освобождения места на диске:"
   ]
  },
  {
   "cell_type": "code",
   "execution_count": 16,
   "id": "efb50871-cc5b-4726-a77f-45c0b8798bef",
   "metadata": {},
   "outputs": [
    {
     "name": "stdout",
     "output_type": "stream",
     "text": [
      "Удален файл: geojson_files_zip/sevastopol.geojson.zip\n",
      "Удален файл: geojson_files_zip/respublika-kareliia.geojson.zip\n",
      "Удален файл: geojson_files_zip/magadanskaia-oblast.geojson.zip\n",
      "Удален файл: geojson_files_zip/respublika-adygeia-adygeia.geojson.zip\n",
      "Удален файл: geojson_files_zip/samarskaia-oblast.geojson.zip\n",
      "Удален файл: geojson_files_zip/riazanskaia-oblast.geojson.zip\n",
      "Удален файл: geojson_files_zip/cheliabinskaia-oblast.geojson.zip\n",
      "Удален файл: geojson_files_zip/irkutskaia-oblast.geojson.zip\n",
      "Удален файл: geojson_files_zip/tulskaia-oblast.geojson.zip\n",
      "Удален файл: geojson_files_zip/respublika-altai.geojson.zip\n",
      "Удален файл: geojson_files_zip/iaroslavskaia-oblast.geojson.zip\n",
      "Удален файл: geojson_files_zip/ivanovskaia-oblast.geojson.zip\n",
      "Удален файл: geojson_files_zip/smolenskaia-oblast.geojson.zip\n",
      "Удален файл: geojson_files_zip/kaliningradskaia-oblast.geojson.zip\n",
      "Удален файл: geojson_files_zip/pskovskaia-oblast.geojson.zip\n",
      "Удален файл: geojson_files_zip/respublika-marii-el.geojson.zip\n",
      "Удален файл: geojson_files_zip/tverskaia-oblast.geojson.zip\n",
      "Удален файл: geojson_files_zip/krasnodarskii-krai.geojson.zip\n",
      "Удален файл: geojson_files_zip/lipetskaia-oblast.geojson.zip\n",
      "Удален файл: geojson_files_zip/chukotskii-avtonomnyi-okrug.geojson.zip\n",
      "Удален файл: geojson_files_zip/belgorodskaia-oblast.geojson.zip\n",
      "Удален файл: geojson_files_zip/astrakhanskaia-oblast.geojson.zip\n",
      "Удален файл: geojson_files_zip/khanty-mansiiskii-avtonomnyi-okrug-iugra.geojson.zip\n",
      "Удален файл: geojson_files_zip/brianskaia-oblast.geojson.zip\n",
      "Удален файл: geojson_files_zip/krasnoiarskii-krai.geojson.zip\n",
      "Удален файл: geojson_files_zip/respublika-tyva.geojson.zip\n",
      "Удален файл: geojson_files_zip/tomskaia-oblast.geojson.zip\n",
      "Удален файл: geojson_files_zip/zabaikalskii-krai.geojson.zip\n",
      "Удален файл: geojson_files_zip/vladimirskaia-oblast.geojson.zip\n",
      "Удален файл: geojson_files_zip/sankt-peterburg.geojson.zip\n",
      "Удален файл: geojson_files_zip/moskovskaia-oblast.geojson.zip\n",
      "Удален файл: geojson_files_zip/karachaevo-cherkesskaia-respublika.geojson.zip\n",
      "Удален файл: geojson_files_zip/vologodskaia-oblast.geojson.zip\n",
      "Удален файл: geojson_files_zip/murmanskaia-oblast.geojson.zip\n",
      "Удален файл: geojson_files_zip/sverdlovskaia-oblast.geojson.zip\n",
      "Удален файл: geojson_files_zip/respublika-kalmykiia.geojson.zip\n",
      "Удален файл: geojson_files_zip/respublika-dagestan.geojson.zip\n",
      "Удален файл: geojson_files_zip/respublika-severnaia-osetiia-alaniia.geojson.zip\n",
      "Удален файл: geojson_files_zip/tiumenskaia-oblast.geojson.zip\n",
      "Удален файл: geojson_files_zip/respublika-bashkortostan.geojson.zip\n",
      "Удален файл: geojson_files_zip/iamalo-nenetskii-avtonomnyi-okrug.geojson.zip\n",
      "Удален файл: geojson_files_zip/respublika-buriatiia.geojson.zip\n",
      "Удален файл: geojson_files_zip/tambovskaia-oblast.geojson.zip\n",
      "Удален файл: geojson_files_zip/respublika-ingushetiia.geojson.zip\n",
      "Удален файл: geojson_files_zip/kemerovskaia-oblast-kuzbass.geojson.zip\n",
      "Удален файл: geojson_files_zip/kurganskaia-oblast.geojson.zip\n",
      "Удален файл: geojson_files_zip/leningradskaia-oblast.geojson.zip\n",
      "Удален файл: geojson_files_zip/evreiskaia-avtonomnaia-oblast.geojson.zip\n",
      "Удален файл: geojson_files_zip/kostromskaia-oblast.geojson.zip\n",
      "Удален файл: geojson_files_zip/chuvashskaia-respublika-chuvashiia.geojson.zip\n",
      "Удален файл: geojson_files_zip/kurskaia-oblast.geojson.zip\n",
      "Удален файл: geojson_files_zip/respublika-krym.geojson.zip\n",
      "Удален файл: geojson_files_zip/voronezhskaia-oblast.geojson.zip\n",
      "Удален файл: geojson_files_zip/penzenskaia-oblast.geojson.zip\n",
      "Удален файл: geojson_files_zip/chechenskaia-respublika.geojson.zip\n",
      "Удален файл: geojson_files_zip/udmurtskaia-respublika.geojson.zip\n",
      "Удален файл: geojson_files_zip/omskaia-oblast.geojson.zip\n",
      "Удален файл: geojson_files_zip/moskva.geojson.zip\n",
      "Удален файл: geojson_files_zip/volgogradskaia-oblast.geojson.zip\n",
      "Удален файл: geojson_files_zip/respublika-mordoviia.geojson.zip\n",
      "Удален файл: geojson_files_zip/khabarovskii-krai.geojson.zip\n",
      "Удален файл: geojson_files_zip/primorskii-krai.geojson.zip\n",
      "Удален файл: geojson_files_zip/orenburgskaia-oblast.geojson.zip\n",
      "Удален файл: geojson_files_zip/saratovskaia-oblast.geojson.zip\n",
      "Удален файл: geojson_files_zip/novgorodskaia-oblast.geojson.zip\n",
      "Удален файл: geojson_files_zip/kabardino-balkarskaia-respublika.geojson.zip\n",
      "Удален файл: geojson_files_zip/amurskaia-oblast.geojson.zip\n",
      "Удален файл: geojson_files_zip/respublika-tatarstan-tatarstan.geojson.zip\n",
      "Удален файл: geojson_files_zip/ulianovskaia-oblast.geojson.zip\n",
      "Удален файл: geojson_files_zip/stavropolskii-krai.geojson.zip\n",
      "Удален файл: geojson_files_zip/nenetskii-avtonomnyi-okrug.geojson.zip\n",
      "Удален файл: geojson_files_zip/arkhangelskaia-oblast.geojson.zip\n",
      "Удален файл: geojson_files_zip/respublika-komi.geojson.zip\n",
      "Удален файл: geojson_files_zip/kirovskaia-oblast.geojson.zip\n",
      "Удален файл: geojson_files_zip/orlovskaia-oblast.geojson.zip\n",
      "Удален файл: geojson_files_zip/respublika-khakasiia.geojson.zip\n",
      "Удален файл: geojson_files_zip/permskii-krai.geojson.zip\n",
      "Удален файл: geojson_files_zip/kaluzhskaia-oblast.geojson.zip\n",
      "Удален файл: geojson_files_zip/kamchatskii-krai.geojson.zip\n",
      "Удален файл: geojson_files_zip/sakhalinskaia-oblast.geojson.zip\n",
      "Удален файл: geojson_files_zip/respublika-sakha-iakutiia.geojson.zip\n",
      "Папка \"geojson_files_zip\" была успешно удалена.\n"
     ]
    }
   ],
   "source": [
    "if os.path.exists(zip_folder) and os.path.isdir(zip_folder):\n",
    "    # Проходим по всем файлам и подкаталогам в папке\n",
    "    for root, dirs, files in os.walk(zip_folder, topdown=False):\n",
    "        # Удаляем все файлы\n",
    "        for file in files:\n",
    "            file_path = os.path.join(root, file)\n",
    "            os.remove(file_path)\n",
    "            print(f'Удален файл: {file_path}')\n",
    "        \n",
    "        # Удаляем все подкаталоги\n",
    "        for dir in dirs:\n",
    "            dir_path = os.path.join(root, dir)\n",
    "            os.rmdir(dir_path)\n",
    "            print(f'Удален каталог: {dir_path}')\n",
    "    \n",
    "    # Удаляем саму папку\n",
    "    os.rmdir(zip_folder)\n",
    "    print(f'Папка \"{zip_folder}\" была успешно удалена.')\n",
    "else:\n",
    "    print(f'Папка \"{zip_folder}\" не существует.')"
   ]
  }
 ],
 "metadata": {
  "kernelspec": {
   "display_name": "Python [conda env:base] *",
   "language": "python",
   "name": "conda-base-py"
  },
  "language_info": {
   "codemirror_mode": {
    "name": "ipython",
    "version": 3
   },
   "file_extension": ".py",
   "mimetype": "text/x-python",
   "name": "python",
   "nbconvert_exporter": "python",
   "pygments_lexer": "ipython3",
   "version": "3.13.5"
  }
 },
 "nbformat": 4,
 "nbformat_minor": 5
}
